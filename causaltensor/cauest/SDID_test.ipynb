{
 "metadata": {
  "language_info": {
   "codemirror_mode": {
    "name": "ipython",
    "version": 3
   },
   "file_extension": ".py",
   "mimetype": "text/x-python",
   "name": "python",
   "nbconvert_exporter": "python",
   "pygments_lexer": "ipython3",
   "version": "3.7.4"
  },
  "orig_nbformat": 2,
  "kernelspec": {
   "name": "python37464bitbased7ad7f42324f4c8483b6f604bee39ffc",
   "display_name": "Python 3.7.4 64-bit ('base': conda)"
  },
  "metadata": {
   "interpreter": {
    "hash": "dca0ade3e726a953b501b15e8e990130d2b7799f14cfd9f4271676035ebe5511"
   }
  }
 },
 "nbformat": 4,
 "nbformat_minor": 2,
 "cells": [
  {
   "cell_type": "code",
   "execution_count": 22,
   "metadata": {},
   "outputs": [],
   "source": [
    "import pandas as pd\n",
    "import numpy as np\n",
    "\n",
    "import matplotlib.pyplot as plt\n",
    "import seaborn as sns\n",
    "\n",
    "from IPython.display import set_matplotlib_formats\n",
    "set_matplotlib_formats('retina')\n",
    "\n",
    "import cvxpy as cp\n",
    "import cvxopt\n",
    "from cvxopt import matrix\n",
    "\n",
    "from sklearn.metrics import mean_squared_error\n",
    "\n",
    "import warnings\n",
    "warnings.simplefilter('ignore')"
   ]
  },
  {
   "source": [
    "def SDID(O, treat_units = [0], starting_time = 100):\n",
    "\n",
    "    donor_units = []\n",
    "    for i in range(O.shape[0]):\n",
    "        if (i not in treat_units):\n",
    "            donor_units.append(i)     \n",
    "    \n",
    "    ##Step 1, Compute regularization parameter\n",
    "    \n",
    "    D = O[:, 1:starting_time+1] - O[:, :starting_time]\n",
    "\n",
    "    D_bar = np.mean(O[donor_units, :-1])\n",
    "\n",
    "    z_square = np.mean((D - D_bar)**2)\n",
    "\n",
    "    ##Step 2, Compute w^{sdid}\n",
    "    Nco = len(donor_units)\n",
    "    Ntr = len(treat_units)\n",
    "    Tpre = starting_time\n",
    "    Tpost = O.shape[1] - starting_time\n",
    "\n",
    "    w = cp.Variable(Nco)\n",
    "    w0 = cp.Variable(1)\n",
    "    G = np.eye(Nco)\n",
    "    A = np.ones(Nco)\n",
    "    #G @ w >= 0\n",
    "    #A.T @ w == 1\n",
    "\n",
    "    mean_treat = np.mean(O[treat_units, :Tpre], axis = 0)\n",
    "\n",
    "    prob = cp.Problem(cp.Minimize(cp.sum_squares(w0+O[donor_units, :Tpre].T @ w - mean_treat) + z_square * Tpre * cp.sum_squares(w)), [G @ w >= 0, A.T @ w == 1])\n",
    "    prob.solve()\n",
    "    #print(\"\\nThe optimal value is\", prob.value) \n",
    "    #print(\"A solution w is\")\n",
    "    #print(w.value)\n",
    "\n",
    "    w_sdid = np.zeros(O.shape[0]) \n",
    "    w_sdid[donor_units] = w.value\n",
    "    w_sdid[treat_units] = -1.0 / Ntr\n",
    "\n",
    "    ##Step 3, Compute l^{sdid}\n",
    "    l = cp.Variable(Tpre)\n",
    "    l0 = cp.Variable(1)\n",
    "    G = np.eye(Tpre)\n",
    "    A = np.ones(Tpre)\n",
    "    #G @ w >= 0\n",
    "    #A.T @ w == 1\n",
    "\n",
    "    mean_treat = np.mean(O[donor_units, Tpre:], axis = 1)\n",
    "    #print(mean_treat.shape)\n",
    "\n",
    "    prob = cp.Problem(cp.Minimize(cp.sum_squares(l0+O[donor_units, :Tpre] @ l - mean_treat)), [G @ l >= 0, A.T @ l == 1])\n",
    "    prob.solve()\n",
    "    #print(\"\\nThe optimal value is\", prob.value) \n",
    "    #print(\"A solution w is\")\n",
    "    #print(l.value)\n",
    "\n",
    "    l_sdid = np.zeros(O.shape[1]) \n",
    "    l_sdid[:Tpre] = l.value\n",
    "    l_sdid[Tpre:] = -1.0 / Tpost\n",
    "\n",
    "    ##Step 4, Compute SDID estimator\n",
    "    tau = w_sdid.T @ O @ l_sdid\n",
    "\n",
    "    return tau"
   ],
   "cell_type": "code",
   "metadata": {},
   "execution_count": 37,
   "outputs": []
  },
  {
   "cell_type": "code",
   "execution_count": 41,
   "metadata": {},
   "outputs": [
    {
     "output_type": "stream",
     "name": "stdout",
     "text": [
      "1.0026997923361534\n"
     ]
    }
   ],
   "source": [
    "np.random.seed(1)\n",
    "n = 50\n",
    "T = 100\n",
    "r = 5\n",
    "mu = np.random.rand()\n",
    "a = np.random.rand(n,1)\n",
    "b = np.random.rand(1,T)\n",
    "tau = 1\n",
    "\n",
    "U = np.random.normal(loc=0, scale = 1, size = (n, r))\n",
    "V = np.random.normal(loc = 0, scale = 1, size = (T, r))\n",
    "M = 5 * U.dot(V.T) + np.random.normal(size = (n, T))\n",
    "\n",
    "Ntr = int(n / 5)\n",
    "Tpre = int(4*T / 5) \n",
    "treat_units = [i for i in range(Ntr)]\n",
    "W = np.zeros((n, T))\n",
    "W[treat_units, Tpre:] = 1\n",
    "\n",
    "#print(treat_units)\n",
    "tau_hat = SDID(M + W*tau, treat_units, Tpre) \n",
    "print(tau_hat)"
   ]
  },
  {
   "cell_type": "code",
   "execution_count": 13,
   "metadata": {},
   "outputs": [],
   "source": [
    "def compute_zeta_square(O, treat_units, starting_time):\n",
    "    donor_units = []\n",
    "    for i in range(O.shape[0]):\n",
    "        if (i not in treat_units):\n",
    "            donor_units.append(i)     \n",
    "    \n",
    "    ##Step 1, Compute regularization parameter\n",
    "    \n",
    "    D = O[:, 1:starting_time+1] - O[:, :starting_time]\n",
    "\n",
    "    D_bar = np.mean(O[donor_units, :-1])\n",
    "\n",
    "    z_square = np.mean((D - D_bar)**2)\n",
    "\n",
    "    return z_square\n",
    "\n",
    "\n",
    "def SDID_download(Y, treat_units = [0], starting_time = 100):\n",
    "    \n",
    "    s = treat_units\n",
    "    t = starting_time\n",
    "\n",
    "    Y_c = np.delete(Y, s, axis=0)\n",
    "    Y_t = Y[s, :]\n",
    "\n",
    "    Y_c_pre = Y_c[:, :t]\n",
    "    Y_c_post = Y_c[:, t:]\n",
    "    Y_t_pre = Y_t[:, :t]\n",
    "    Y_t_post = Y_t[:, t:]\n",
    "\n",
    "    sum_omega_YiT = omega_hat.T @ Y_c_post\n",
    "    sum_lambda_YNt= lambda_hat.T @ Y_t_pre\n",
    "    sum_omega_lambda_Yit = omega_hat.T @ Y_c_pre @ lambda_hat\n",
    "\n",
    "    Yhat_sdid = sum_omega_YiT + sum_lambda_YNt - sum_omega_lambda_Yit\n",
    "    #Yhat_sc = sum_omega_YiT\n",
    "    #Yhat_did = Y_c_post.mean() + Y_t_pre.mean() - Y_c_pre.mean()\n",
    "\n",
    "    tau_sdid = np.mean(Y_t_post - Yhat_sdid) \n",
    "    Y[s, t:] = Yhat_sdid\n",
    "    return Yhat_sdid, tau_sdid"
   ]
  },
  {
   "cell_type": "code",
   "execution_count": 22,
   "metadata": {},
   "outputs": [
    {
     "output_type": "stream",
     "name": "stdout",
     "text": [
      "\nThe optimal value is 0.0\nA solution x is\n[0. 0. 0. 0. 0. 0. 0. 0. 0. 0.]\nA dual solution corresponding to the inequality constraints is\n"
     ]
    },
    {
     "output_type": "error",
     "ename": "IndexError",
     "evalue": "list index out of range",
     "traceback": [
      "\u001b[0;31m---------------------------------------------------------------------------\u001b[0m",
      "\u001b[0;31mIndexError\u001b[0m                                Traceback (most recent call last)",
      "\u001b[0;32m<ipython-input-22-7094e7eec903>\u001b[0m in \u001b[0;36m<module>\u001b[0;34m\u001b[0m\n\u001b[1;32m     25\u001b[0m \u001b[0mprint\u001b[0m\u001b[0;34m(\u001b[0m\u001b[0mx\u001b[0m\u001b[0;34m.\u001b[0m\u001b[0mvalue\u001b[0m\u001b[0;34m)\u001b[0m\u001b[0;34m\u001b[0m\u001b[0;34m\u001b[0m\u001b[0m\n\u001b[1;32m     26\u001b[0m \u001b[0mprint\u001b[0m\u001b[0;34m(\u001b[0m\u001b[0;34m\"A dual solution corresponding to the inequality constraints is\"\u001b[0m\u001b[0;34m)\u001b[0m\u001b[0;34m\u001b[0m\u001b[0;34m\u001b[0m\u001b[0m\n\u001b[0;32m---> 27\u001b[0;31m \u001b[0mprint\u001b[0m\u001b[0;34m(\u001b[0m\u001b[0mprob\u001b[0m\u001b[0;34m.\u001b[0m\u001b[0mconstraints\u001b[0m\u001b[0;34m[\u001b[0m\u001b[0;36m0\u001b[0m\u001b[0;34m]\u001b[0m\u001b[0;34m.\u001b[0m\u001b[0mdual_value\u001b[0m\u001b[0;34m)\u001b[0m\u001b[0;34m\u001b[0m\u001b[0;34m\u001b[0m\u001b[0m\n\u001b[0m",
      "\u001b[0;31mIndexError\u001b[0m: list index out of range"
     ]
    }
   ],
   "source": [
    "# Generate a random non-trivial quadratic program.\n",
    "m = 15\n",
    "n = 10\n",
    "p = 5\n",
    "np.random.seed(1)\n",
    "P = np.random.randn(n, n)\n",
    "P = P.T @ P\n",
    "q = np.random.randn(n)\n",
    "G = np.random.randn(m, n)\n",
    "h = G @ np.random.randn(n)\n",
    "A = np.random.randn(p, n)\n",
    "b = np.random.randn(p)\n",
    "\n",
    "# Define and solve the CVXPY problem.\n",
    "x = cp.Variable(n)\n",
    "#print(q.T @ q)\n",
    "#print(x.shape, q.shape, P.shape)\n",
    "prob = cp.Problem(cp.Minimize(cp.sum_squares(q.T @ x) + cp.sum_squares(x)))\n",
    "#prob = cp.Problem(cp.Minimize((1/2)*cp.quad_form(x, P) + q.T @ x), [G @ x <= h, A @ x == b])\n",
    "prob.solve()\n",
    "\n",
    "# Print result.\n",
    "print(\"\\nThe optimal value is\", prob.value)\n",
    "print(\"A solution x is\")\n",
    "print(x.value)\n",
    "print(\"A dual solution corresponding to the inequality constraints is\")\n",
    "print(prob.constraints[0].dual_value)"
   ]
  },
  {
   "cell_type": "code",
   "execution_count": null,
   "metadata": {},
   "outputs": [],
   "source": []
  }
 ]
}