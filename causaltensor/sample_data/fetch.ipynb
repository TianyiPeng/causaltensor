{
 "cells": [
  {
   "cell_type": "code",
   "execution_count": 1,
   "metadata": {},
   "outputs": [],
   "source": [
    "import numpy as np\n",
    "\n",
    "def fetch():\n",
    "    O = np.loadtxt('MLAB_data.txt')\n",
    "    return O"
   ]
  },
  {
   "cell_type": "code",
   "execution_count": 10,
   "metadata": {},
   "outputs": [
    {
     "data": {
      "text/plain": [
       "array([ 96.19999695,  99.40000153,  73.        ,  71.40000153,\n",
       "       140.6999969 ,  88.40000153,  66.90000153,  70.        ,\n",
       "       125.5       ,  88.90000153,  79.80000305, 156.1999969 ,\n",
       "       104.3000031 ,  82.90000153,  76.        ,  97.19999695,\n",
       "       113.8000031 ,  75.5       ,  77.59999847,  93.19999695,\n",
       "       147.3000031 ,  53.79999924, 109.        ,  72.5       ,\n",
       "        99.90000153, 108.9000015 ,  87.90000153,  83.09999847,\n",
       "       103.9000015 ,  75.09999847, 108.6999969 ,  69.30000305,\n",
       "        40.70000076,  88.90000153,  96.69999695, 107.9000015 ,\n",
       "        80.09999847,  90.5       ,  41.59999847])"
      ]
     },
     "execution_count": 10,
     "metadata": {},
     "output_type": "execute_result"
    }
   ],
   "source": []
  },
  {
   "cell_type": "code",
   "execution_count": null,
   "metadata": {},
   "outputs": [],
   "source": []
  }
 ],
 "metadata": {
  "kernelspec": {
   "display_name": "base",
   "language": "python",
   "name": "python3"
  },
  "language_info": {
   "codemirror_mode": {
    "name": "ipython",
    "version": 3
   },
   "file_extension": ".py",
   "mimetype": "text/x-python",
   "name": "python",
   "nbconvert_exporter": "python",
   "pygments_lexer": "ipython3",
   "version": "3.7.4"
  },
  "orig_nbformat": 4,
  "vscode": {
   "interpreter": {
    "hash": "40d3a090f54c6569ab1632332b64b2c03c39dcf918b08424e98f38b5ae0af88f"
   }
  }
 },
 "nbformat": 4,
 "nbformat_minor": 2
}
