{
 "cells": [
  {
   "cell_type": "code",
   "execution_count": 2,
   "metadata": {},
   "outputs": [],
   "source": [
    "import numpy as np\n",
    "import time \n",
    "import causaltensor as ct\n",
    "from causaltensor import low_rank_M0_Gamma\n",
    "from causaltensor.matlib import generate_Z\n",
    "from causaltensor.cauest import std_debiased_convex\n",
    "from causaltensor.cauest import projection_T_orthogonal\n",
    "from causaltensor.cauest import DC_PR_with_suggested_rank\n",
    "from causaltensor.cauest import non_convex_algorithm\n",
    "from causaltensor.cauest import DC_PR_auto_rank\n",
    "import pandas as pd\n",
    "import pickle"
   ]
  },
  {
   "cell_type": "code",
   "execution_count": 3,
   "metadata": {},
   "outputs": [],
   "source": [
    "def read_data(scenario='beer'):\n",
    "    if scenario == 'beer':\n",
    "        df = pd.read_csv(open('dataset/beer_filter.csv'))\n",
    "        beer_data = np.array(df.drop(['ID'], axis = 1))\n",
    "        return beer_data\n",
    "\n",
    "    if scenario == 'tobacco':\n",
    "        df = pd.read_csv('prop99.csv')  ##input csv file\n",
    "        df = df[df['SubMeasureDesc'] == 'Cigarette Consumption (Pack Sales Per Capita)'] ## extract the metric that we want\n",
    "        pivot = df.pivot_table(values='Data_Value', index='LocationDesc', columns=['Year']) ## obtain the desired pivot table: index: state-name, column: year, value: per captita consumption\n",
    "\n",
    "        dfProp99 = pd.DataFrame(pivot.to_records())\n",
    "        allColumns = dfProp99.columns.values\n",
    "        states = list(np.unique(dfProp99['LocationDesc']))\n",
    "        years = allColumns[1:]\n",
    "        O = dfProp99[years].values\n",
    "        select = []\n",
    "        remove_list = ['Massachusetts', 'Arizona', 'Oregon', 'Florida', 'Alaska', 'Hawaii', 'Maryland', 'Michigan', 'New Jersey', 'New York', 'Washington', 'District of Columbia', 'California']\n",
    "        for i in range(O.shape[0]):\n",
    "            if (states[i] not in remove_list):\n",
    "                select.append(i)\n",
    "        O = O[select, :]\n",
    "\n",
    "        end_index = 2001 - 1970\n",
    "        return O[:, :end_index]\n",
    "        \n",
    "    if scenario == 'sales':\n",
    "        O = pickle.load(open('sales.p', 'rb'))\n",
    "        return O"
   ]
  },
  {
   "attachments": {},
   "cell_type": "markdown",
   "metadata": {},
   "source": [
    "## Semi-synthetic experiments on Sales data"
   ]
  },
  {
   "cell_type": "code",
   "execution_count": 7,
   "metadata": {},
   "outputs": [],
   "source": [
    "M0 = read_data('sales')\n",
    "#M0 = read_data('tobacco')\n",
    "s = np.linalg.svd(M0, full_matrices=False, compute_uv=False)"
   ]
  },
  {
   "cell_type": "code",
   "execution_count": 8,
   "metadata": {},
   "outputs": [
    {
     "name": "stdout",
     "output_type": "stream",
     "text": [
      "34\n"
     ]
    }
   ],
   "source": [
    "print(np.sum(np.cumsum(s**2) / np.sum(s**2) <= 0.998))"
   ]
  },
  {
   "cell_type": "code",
   "execution_count": null,
   "metadata": {},
   "outputs": [],
   "source": [
    "M0 = read_data('sales')\n",
    "s = np.linalg.svd(M0, full_matrices=False, compute_uv=False)\n",
    "#print(s)\n",
    "sigma = 0\n",
    "suggest_r = 35\n",
    "\n",
    "def sales_experiment_performance_run_results(num_experiment=1, sigma = 0.1, pattern = 'block', suggest_r = 10):\n",
    "    samples = np.zeros(num_experiment)\n",
    "    t1 = time.time()\n",
    "\n",
    "    algo_list = ['convex_debias', 'missing', 'OLS', 'PCA']\n",
    "\n",
    "    if (pattern == 'block'):\n",
    "        algo_list.append('robust_synthetic_control')\n",
    "\n",
    "    datas = np.zeros((num_experiment, len(algo_list)))\n",
    "\n",
    "    (n1, n2) = M0.shape\n",
    "\n",
    "    suggest_l = -1\n",
    "    if (suggest_r != -1):\n",
    "        s = np.linalg.svd(M0, full_matrices=False, compute_uv=False)\n",
    "        suggest_l = s[suggest_r]*1.1\n",
    "\n",
    "    for T in range(num_experiment):\n",
    "        if (T % 100 == 0):\n",
    "            print(time.time() - t1)\n",
    "            print('experiment ', T)\n",
    "\n",
    "        ## generating stagger pattern Z\n",
    "        if (pattern == 'stagger'):\n",
    "            m1 = np.random.randint(low=1, high=n1)\n",
    "            m2 = np.random.randint(low=int(n2/5), high=n2)\n",
    "            Z = generate_Z(pattern_tuple=['stagger', (m1, m2)], M0=M0)\n",
    "            treat_units = []\n",
    "\n",
    "        if (pattern == 'block'):\n",
    "            m1 = np.random.randint(low=1, high=int(n1/3))\n",
    "            m2 = np.random.randint(low=int(n2/2), high=n2)\n",
    "            #m1 = 8\n",
    "            #m2 = 10\n",
    "            Z, treat_units = generate_Z(pattern_tuple=['block', (m1, m2)], M0=M0)\n",
    "\n",
    "        if (pattern == 'adaptive'):\n",
    "            while True:\n",
    "                a = np.random.randint(20)+5\n",
    "                b = np.random.randint(20)+5\n",
    "                Z, info = generate_Z(pattern_tuple = ['adaptive', (a, b)], M0=M0)\n",
    "                if (info == 'fail'):\n",
    "                    continue\n",
    "                break\n",
    "        print('***sparsity****', np.sum(Z) / np.size(Z))\n",
    "\n",
    "        tau_star_o = np.mean(M0)/5\n",
    "\n",
    "        E = np.random.normal(loc=0, scale=sigma, size=M0.shape)\n",
    "\n",
    "        def test():\n",
    "            delta = np.random.normal(loc = 0, scale = tau_star_o, size = (n1, 1)) * np.ones((n1, n2))\n",
    "            #print(delta)\n",
    "            d1 = np.sum(Z * delta) / np.sum(Z)\n",
    "            delta = delta - d1\n",
    "            tau_star = tau_star_o + d1\n",
    "\n",
    "            O = M0 + Z*delta + tau_star * Z + E     \n",
    "\n",
    "            #O = M0 + Z * tau_star + E\n",
    "            E_op = np.linalg.norm(E + Z*delta, ord=2)\n",
    "\n",
    "            results = run_algo(algo_list, O, Z, suggest_r = suggest_r, suggest_l = suggest_l, eps = 1e-1, de_mean_O=False, treat_units=[], tau_star = tau_star, m2 = 0, M0 = M0, real_data = True)\n",
    "            \n",
    "            error_metric = {}\n",
    "            for algo in algo_list:\n",
    "                (M, tau) = results[algo]\n",
    "                error_metric[algo] = metric_compute(M, tau, M0, tau_star, Z, ['tau_diff'])['tau_diff']\n",
    "            return error_metric\n",
    "\n",
    "        error_metric = test()\n",
    "        print(error_metric)\n",
    "        for index, algo in enumerate(algo_list):\n",
    "                datas[T, index] = error_metric[algo]\n",
    "        print('experiment {}, time elapses '.format(T), time.time() - t1)\n",
    "    datas = pd.DataFrame(datas, columns = algo_list)\n",
    "    return datas\n",
    "\n",
    "\n",
    "np.random.seed(1)\n",
    "datas = sales_experiment_performance_run_results(sigma = sigma, num_experiment = 1000, pattern = 'adaptive', suggest_r = suggest_r)"
   ]
  },
  {
   "cell_type": "code",
   "execution_count": null,
   "metadata": {},
   "outputs": [],
   "source": []
  }
 ],
 "metadata": {
  "kernelspec": {
   "display_name": "Python 3.7.4 ('base')",
   "language": "python",
   "name": "python3"
  },
  "language_info": {
   "codemirror_mode": {
    "name": "ipython",
    "version": 3
   },
   "file_extension": ".py",
   "mimetype": "text/x-python",
   "name": "python",
   "nbconvert_exporter": "python",
   "pygments_lexer": "ipython3",
   "version": "3.7.4"
  },
  "orig_nbformat": 4,
  "vscode": {
   "interpreter": {
    "hash": "40d3a090f54c6569ab1632332b64b2c03c39dcf918b08424e98f38b5ae0af88f"
   }
  }
 },
 "nbformat": 4,
 "nbformat_minor": 2
}
