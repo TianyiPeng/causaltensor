{
 "cells": [
  {
   "cell_type": "code",
   "execution_count": 1,
   "metadata": {},
   "outputs": [],
   "source": [
    "import sys\n",
    "sys.path.append('c:\\\\Users\\\\Arushi Jain\\\\Dropbox (MIT)\\\\RAship\\\\causaltensor')\n",
    "import numpy as np\n",
    "from src.causaltensor.cauest.OLSSyntheticControl import ols_synthetic_control"
   ]
  },
  {
   "cell_type": "code",
   "execution_count": 2,
   "metadata": {},
   "outputs": [
    {
     "name": "stdout",
     "output_type": "stream",
     "text": [
      "(39, 31)\n"
     ]
    }
   ],
   "source": [
    "O_raw = np.loadtxt('MLAB_data.txt')\n",
    "O = O_raw[8:, :] ## remove features that are not relevant in this demo\n",
    "O = O.T\n",
    "print(O.shape)\n",
    "## now O consists of the annual tobacco consumption of 39 states from 1970 to 2000\n",
    "## California is the last row of O"
   ]
  },
  {
   "cell_type": "code",
   "execution_count": 3,
   "metadata": {},
   "outputs": [],
   "source": [
    "Z = np.zeros_like(O) # Z has the same shape as O\n",
    "Z[-1, 19:] = 1 #Only California (the last row) used the intervention, which started in 1989"
   ]
  },
  {
   "cell_type": "code",
   "execution_count": 4,
   "metadata": {},
   "outputs": [
    {
     "name": "stdout",
     "output_type": "stream",
     "text": [
      "Final: [ True  True  True  True  True  True  True  True  True  True  True  True\n",
      "  True  True  True  True  True  True  True  True  True  True  True  True\n",
      "  True  True  True  True  True  True  True  True  True  True  True  True\n",
      "  True  True], inf\n",
      "The estimation of Synthetic Control is -15.41945550009492\n"
     ]
    },
    {
     "name": "stderr",
     "output_type": "stream",
     "text": [
      "c:\\Users\\Arushi Jain\\AppData\\Local\\Programs\\Python\\Python310\\lib\\site-packages\\statsmodels\\regression\\linear_model.py:1671: RuntimeWarning: divide by zero encountered in double_scalars\n",
      "  return np.dot(wresid, wresid) / self.df_resid\n"
     ]
    }
   ],
   "source": [
    "M, tau = ols_synthetic_control(O.T, Z.T)  \n",
    "print('The estimation of Synthetic Control is', tau)"
   ]
  },
  {
   "cell_type": "code",
   "execution_count": 5,
   "metadata": {},
   "outputs": [
    {
     "name": "stdout",
     "output_type": "stream",
     "text": [
      "Final: [False False False  True False False False False False  True False False\n",
      " False False False False False False False  True  True False False False\n",
      " False False False False False False False False False False False  True\n",
      " False  True], 0.019541940252292167\n",
      "The estimation of Synthetic Control is -13.159653521660083\n"
     ]
    }
   ],
   "source": [
    "M, tau = ols_synthetic_control(O.T, Z.T, select_features=True)  \n",
    "print('The estimation of Synthetic Control is', tau)"
   ]
  },
  {
   "cell_type": "code",
   "execution_count": null,
   "metadata": {},
   "outputs": [],
   "source": []
  }
 ],
 "metadata": {
  "kernelspec": {
   "display_name": "Python 3",
   "language": "python",
   "name": "python3"
  },
  "language_info": {
   "codemirror_mode": {
    "name": "ipython",
    "version": 3
   },
   "file_extension": ".py",
   "mimetype": "text/x-python",
   "name": "python",
   "nbconvert_exporter": "python",
   "pygments_lexer": "ipython3",
   "version": "3.10.8"
  },
  "orig_nbformat": 4
 },
 "nbformat": 4,
 "nbformat_minor": 2
}
