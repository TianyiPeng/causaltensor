{
 "cells": [
  {
   "cell_type": "code",
   "execution_count": 1,
   "metadata": {},
   "outputs": [],
   "source": [
    "import causaltensor as ct\n",
    "import matplotlib.pyplot as plt\n",
    "import numpy as np"
   ]
  },
  {
   "cell_type": "code",
   "execution_count": 2,
   "metadata": {},
   "outputs": [],
   "source": [
    "from causaltensor.sample_data import fetch"
   ]
  },
  {
   "cell_type": "code",
   "execution_count": 3,
   "metadata": {},
   "outputs": [],
   "source": [
    "O_raw = fetch()"
   ]
  },
  {
   "cell_type": "code",
   "execution_count": 4,
   "metadata": {},
   "outputs": [
    {
     "data": {
      "text/plain": [
       "[<matplotlib.lines.Line2D at 0x7fd158b2c430>]"
      ]
     },
     "execution_count": 4,
     "metadata": {},
     "output_type": "execute_result"
    },
    {
     "data": {
      "image/png": "[encoded data removed]",
      "text/plain": [
       "<Figure size 640x480 with 1 Axes>"
      ]
     },
     "metadata": {},
     "output_type": "display_data"
    }
   ],
   "source": [
    "O = O_raw[8:, :]\n",
    "O = O.T\n",
    "plt.plot(O[-1, :])"
   ]
  },
  {
   "cell_type": "code",
   "execution_count": 5,
   "metadata": {},
   "outputs": [],
   "source": [
    "Z = np.zeros_like(O)\n",
    "Z[-1, 19:] = 1 #start to apply the treatment in 1989"
   ]
  },
  {
   "cell_type": "code",
   "execution_count": 6,
   "metadata": {},
   "outputs": [],
   "source": [
    "s = np.linalg.svd(O, full_matrices=False, compute_uv=False)"
   ]
  },
  {
   "attachments": {},
   "cell_type": "markdown",
   "metadata": {},
   "source": [
    "## DID estimation"
   ]
  },
  {
   "cell_type": "code",
   "execution_count": 7,
   "metadata": {},
   "outputs": [],
   "source": [
    "from causaltensor.cauest import DID \n",
    "\n",
    "M, tau = DID(O, Z)"
   ]
  },
  {
   "cell_type": "code",
   "execution_count": 8,
   "metadata": {},
   "outputs": [
    {
     "data": {
      "text/plain": [
       "-27.335107556961784"
      ]
     },
     "execution_count": 8,
     "metadata": {},
     "output_type": "execute_result"
    }
   ],
   "source": [
    "tau"
   ]
  },
  {
   "attachments": {},
   "cell_type": "markdown",
   "metadata": {},
   "source": [
    "## SDID estimation"
   ]
  },
  {
   "cell_type": "code",
   "execution_count": 9,
   "metadata": {},
   "outputs": [],
   "source": [
    "from causaltensor.cauest import SDID\n",
    "\n",
    "tau = SDID(O, Z)"
   ]
  },
  {
   "cell_type": "code",
   "execution_count": 10,
   "metadata": {},
   "outputs": [
    {
     "data": {
      "text/plain": [
       "-15.602326126984645"
      ]
     },
     "execution_count": 10,
     "metadata": {},
     "output_type": "execute_result"
    }
   ],
   "source": [
    "tau"
   ]
  },
  {
   "attachments": {},
   "cell_type": "markdown",
   "metadata": {},
   "source": [
    "## Matrix Completion"
   ]
  },
  {
   "cell_type": "code",
   "execution_count": 11,
   "metadata": {},
   "outputs": [],
   "source": [
    "from causaltensor.cauest import MC_NNM_with_suggested_rank\n",
    "\n",
    "M, a, b, tau = MC_NNM_with_suggested_rank(O, 1-Z, suggest_r = 1)"
   ]
  },
  {
   "cell_type": "code",
   "execution_count": 12,
   "metadata": {},
   "outputs": [
    {
     "data": {
      "text/plain": [
       "-27.017712092108138"
      ]
     },
     "execution_count": 12,
     "metadata": {},
     "output_type": "execute_result"
    }
   ],
   "source": [
    "tau"
   ]
  },
  {
   "cell_type": "code",
   "execution_count": 13,
   "metadata": {},
   "outputs": [
    {
     "data": {
      "text/plain": [
       "-19.936496012119093"
      ]
     },
     "execution_count": 13,
     "metadata": {},
     "output_type": "execute_result"
    }
   ],
   "source": [
    "from causaltensor.cauest import MC_NNM_with_cross_validation\n",
    "\n",
    "M, a, b, tau = MC_NNM_with_cross_validation(O, 1-Z)\n",
    "tau"
   ]
  },
  {
   "attachments": {},
   "cell_type": "markdown",
   "metadata": {},
   "source": [
    "## Debiased Convex Panel Regression"
   ]
  },
  {
   "cell_type": "code",
   "execution_count": 14,
   "metadata": {},
   "outputs": [],
   "source": [
    "import causaltensor.cauest.DebiasConvex as DebiasConvex\n",
    "import causaltensor.matlib.util as util\n",
    "\n",
    "from importlib import reload\n",
    "reload(DebiasConvex)\n",
    "reload(util)\n",
    "M, tau, std = DebiasConvex.DC_PR_with_suggested_rank(O, Z, suggest_r = 2)\n",
    "#M, tau, variance = \n",
    "#M, tau, M_raw, tau_raw = DC_PR_auto_rank(O, Z)\n",
    "#variance = std_debiased_convex(O, Z, M_raw, tau_raw)\n",
    "#print(tau, variance)"
   ]
  },
  {
   "cell_type": "code",
   "execution_count": 17,
   "metadata": {},
   "outputs": [
    {
     "name": "stdout",
     "output_type": "stream",
     "text": [
      "-15.880704119035322 3.011813924289418\n"
     ]
    }
   ],
   "source": [
    "M, tau, std = DebiasConvex.DC_PR_auto_rank(O, Z, method = 'non-convex')\n",
    "print(tau, std)"
   ]
  },
  {
   "cell_type": "code",
   "execution_count": 19,
   "metadata": {},
   "outputs": [
    {
     "name": "stdout",
     "output_type": "stream",
     "text": [
      "-15.880704119035322 3.011813924289418\n"
     ]
    }
   ],
   "source": [
    "M, tau, std = DebiasConvex.DC_PR_auto_rank(O, Z, method = 'auto')\n",
    "print(tau, std)"
   ]
  },
  {
   "cell_type": "code",
   "execution_count": 35,
   "metadata": {},
   "outputs": [
    {
     "name": "stdout",
     "output_type": "stream",
     "text": [
      "-16.010577370658766 3.01302063854069\n"
     ]
    }
   ],
   "source": [
    "from causaltensor.cauest import DC_PR_with_suggested_rank\n",
    "from causaltensor.cauest import non_convex_algorithm\n",
    "from causaltensor.cauest import std_debiased_convex\n",
    "from causaltensor.cauest import DC_PR_auto_rank\n",
    "\n",
    "\n",
    "\n",
    "\n",
    "#M, tau, M_raw, tau_raw = DC_PR_with_suggested_rank(O, Z, suggest_r = 2)\n",
    "M, tau, std = DC_PR_auto_rank(O, Z)\n",
    "print(tau, std)"
   ]
  },
  {
   "cell_type": "code",
   "execution_count": null,
   "metadata": {},
   "outputs": [],
   "source": []
  }
 ],
 "metadata": {
  "kernelspec": {
   "display_name": "base",
   "language": "python",
   "name": "python3"
  },
  "language_info": {
   "codemirror_mode": {
    "name": "ipython",
    "version": 3
   },
   "file_extension": ".py",
   "mimetype": "text/x-python",
   "name": "python",
   "nbconvert_exporter": "python",
   "pygments_lexer": "ipython3",
   "version": "3.10.9"
  },
  "orig_nbformat": 4,
  "vscode": {
   "interpreter": {
    "hash": "40d3a090f54c6569ab1632332b64b2c03c39dcf918b08424e98f38b5ae0af88f"
   }
  }
 },
 "nbformat": 4,
 "nbformat_minor": 2
}
