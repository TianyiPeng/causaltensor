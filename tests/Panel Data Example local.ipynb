{
 "cells": [
  {
   "cell_type": "code",
   "execution_count": 1,
   "metadata": {},
   "outputs": [],
   "source": [
    "import causaltensor as ct\n",
    "import matplotlib.pyplot as plt\n",
    "import numpy as np"
   ]
  },
  {
   "cell_type": "code",
   "execution_count": 2,
   "metadata": {},
   "outputs": [],
   "source": [
    "from causaltensor.sample_data import fetch"
   ]
  },
  {
   "cell_type": "code",
   "execution_count": 3,
   "metadata": {},
   "outputs": [],
   "source": [
    "O_raw = fetch()"
   ]
  },
  {
   "cell_type": "code",
   "execution_count": 4,
   "metadata": {},
   "outputs": [
    {
     "data": {
      "text/plain": [
       "[<matplotlib.lines.Line2D at 0x7fe6164b9420>]"
      ]
     },
     "execution_count": 4,
     "metadata": {},
     "output_type": "execute_result"
    },
    {
     "data": {
      "image/png": "[encoded data removed]",
      "text/plain": [
       "<Figure size 640x480 with 1 Axes>"
      ]
     },
     "metadata": {},
     "output_type": "display_data"
    }
   ],
   "source": [
    "O = O_raw[8:, :]\n",
    "O = O.T\n",
    "plt.plot(O[-1, :])"
   ]
  },
  {
   "cell_type": "code",
   "execution_count": 5,
   "metadata": {},
   "outputs": [],
   "source": [
    "Z = np.zeros_like(O)\n",
    "Z[-1, 19:] = 1 #start to apply the treatment in 1989"
   ]
  },
  {
   "cell_type": "code",
   "execution_count": 47,
   "metadata": {},
   "outputs": [
    {
     "name": "stdout",
     "output_type": "stream",
     "text": [
      "2\n"
     ]
    }
   ],
   "source": [
    "s = np.linalg.svd(O, full_matrices=False, compute_uv=False)"
   ]
  },
  {
   "attachments": {},
   "cell_type": "markdown",
   "metadata": {},
   "source": [
    "## DID estimation"
   ]
  },
  {
   "cell_type": "code",
   "execution_count": 24,
   "metadata": {},
   "outputs": [],
   "source": [
    "from causaltensor.cauest import DID \n",
    "\n",
    "M, tau = DID(O, Z)"
   ]
  },
  {
   "cell_type": "code",
   "execution_count": 25,
   "metadata": {},
   "outputs": [
    {
     "data": {
      "text/plain": [
       "-27.335107556961784"
      ]
     },
     "execution_count": 25,
     "metadata": {},
     "output_type": "execute_result"
    }
   ],
   "source": [
    "tau"
   ]
  },
  {
   "attachments": {},
   "cell_type": "markdown",
   "metadata": {},
   "source": [
    "## SDID estimation"
   ]
  },
  {
   "cell_type": "code",
   "execution_count": 26,
   "metadata": {},
   "outputs": [],
   "source": [
    "from causaltensor.cauest import SDID\n",
    "\n",
    "tau = SDID(O, Z)"
   ]
  },
  {
   "cell_type": "code",
   "execution_count": 27,
   "metadata": {},
   "outputs": [
    {
     "data": {
      "text/plain": [
       "-15.602326126984691"
      ]
     },
     "execution_count": 27,
     "metadata": {},
     "output_type": "execute_result"
    }
   ],
   "source": [
    "tau"
   ]
  },
  {
   "attachments": {},
   "cell_type": "markdown",
   "metadata": {},
   "source": [
    "## Matrix Completion"
   ]
  },
  {
   "cell_type": "code",
   "execution_count": 10,
   "metadata": {},
   "outputs": [],
   "source": [
    "from causaltensor.cauest import MC_NNM_with_suggested_rank\n",
    "\n",
    "M, a, b, tau = MC_NNM_with_suggested_rank(O, 1-Z, suggest_r = 1)"
   ]
  },
  {
   "cell_type": "code",
   "execution_count": 11,
   "metadata": {},
   "outputs": [
    {
     "data": {
      "text/plain": [
       "-27.017712092108127"
      ]
     },
     "execution_count": 11,
     "metadata": {},
     "output_type": "execute_result"
    }
   ],
   "source": [
    "tau"
   ]
  },
  {
   "cell_type": "code",
   "execution_count": 12,
   "metadata": {},
   "outputs": [
    {
     "data": {
      "text/plain": [
       "-19.936496012118933"
      ]
     },
     "execution_count": 12,
     "metadata": {},
     "output_type": "execute_result"
    }
   ],
   "source": [
    "from causaltensor.cauest import MC_NNM_with_cross_validation\n",
    "\n",
    "M, a, b, tau = MC_NNM_with_cross_validation(O, 1-Z)\n",
    "tau"
   ]
  },
  {
   "attachments": {},
   "cell_type": "markdown",
   "metadata": {},
   "source": [
    "## Debiased Convex Panel Regression"
   ]
  },
  {
   "cell_type": "code",
   "execution_count": 44,
   "metadata": {},
   "outputs": [
    {
     "name": "stdout",
     "output_type": "stream",
     "text": [
      "[4275.67058863  296.24054256    0.            0.            0.\n",
      "    0.            0.            0.            0.            0.\n",
      "    0.            0.            0.            0.            0.\n",
      "    0.            0.            0.            0.            0.\n",
      "    0.            0.            0.            0.            0.\n",
      "    0.            0.            0.            0.            0.\n",
      "    0.        ]\n"
     ]
    }
   ],
   "source": [
    "import causaltensor.cauest.DebiasConvex as DebiasConvex\n",
    "import causaltensor.matlib.util as util\n",
    "\n",
    "from importlib import reload\n",
    "reload(DebiasConvex)\n",
    "reload(util)\n",
    "M, tau, std = DebiasConvex.DC_PR_with_suggested_rank(O, Z, suggest_r = 2)\n",
    "#M, tau, variance = \n",
    "#M, tau, M_raw, tau_raw = DC_PR_auto_rank(O, Z)\n",
    "#variance = std_debiased_convex(O, Z, M_raw, tau_raw)\n",
    "#print(tau, variance)"
   ]
  },
  {
   "cell_type": "code",
   "execution_count": 45,
   "metadata": {},
   "outputs": [
    {
     "data": {
      "text/plain": [
       "(array([[ 92.90513372,  96.68801754,  98.60903638, ..., 104.67474679,\n",
       "         101.11459285,  97.74070071],\n",
       "        [ 97.6006808 , 101.64402967, 103.43801846, ..., 112.38445752,\n",
       "         108.55634776, 105.10137077],\n",
       "        [121.94417995, 125.39705123, 132.81166734, ...,  84.57260549,\n",
       "          81.82139686,  75.44031241],\n",
       "        ...,\n",
       "        [ 99.46967366, 102.9113827 , 106.93672652, ...,  90.82063481,\n",
       "          87.78206696,  83.38420953],\n",
       "        [135.66175831, 139.84971035, 146.97682854, ..., 106.19324625,\n",
       "         102.69206713,  96.04073734],\n",
       "        [116.12972249, 119.27101999, 126.80748389, ...,  75.40843196,\n",
       "          72.97510725,  66.70857691]]),\n",
       " -16.010577370658766,\n",
       " 3.01302063854069)"
      ]
     },
     "execution_count": 45,
     "metadata": {},
     "output_type": "execute_result"
    }
   ],
   "source": [
    "M, tau, std"
   ]
  },
  {
   "cell_type": "code",
   "execution_count": 35,
   "metadata": {},
   "outputs": [
    {
     "name": "stdout",
     "output_type": "stream",
     "text": [
      "-16.010577370658766 3.01302063854069\n"
     ]
    }
   ],
   "source": [
    "from causaltensor.cauest import DC_PR_with_suggested_rank\n",
    "from causaltensor.cauest import non_convex_algorithm\n",
    "from causaltensor.cauest import std_debiased_convex\n",
    "from causaltensor.cauest import DC_PR_auto_rank\n",
    "\n",
    "\n",
    "\n",
    "\n",
    "#M, tau, M_raw, tau_raw = DC_PR_with_suggested_rank(O, Z, suggest_r = 2)\n",
    "M, tau, std = DC_PR_auto_rank(O, Z)\n",
    "print(tau, std)"
   ]
  },
  {
   "cell_type": "code",
   "execution_count": null,
   "metadata": {},
   "outputs": [],
   "source": []
  }
 ],
 "metadata": {
  "kernelspec": {
   "display_name": "base",
   "language": "python",
   "name": "python3"
  },
  "language_info": {
   "codemirror_mode": {
    "name": "ipython",
    "version": 3
   },
   "file_extension": ".py",
   "mimetype": "text/x-python",
   "name": "python",
   "nbconvert_exporter": "python",
   "pygments_lexer": "ipython3",
   "version": "3.10.9"
  },
  "orig_nbformat": 4,
  "vscode": {
   "interpreter": {
    "hash": "40d3a090f54c6569ab1632332b64b2c03c39dcf918b08424e98f38b5ae0af88f"
   }
  }
 },
 "nbformat": 4,
 "nbformat_minor": 2
}
