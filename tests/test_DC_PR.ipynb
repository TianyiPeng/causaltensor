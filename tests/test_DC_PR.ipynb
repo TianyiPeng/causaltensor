{
 "cells": [
  {
   "cell_type": "code",
   "execution_count": 3,
   "metadata": {},
   "outputs": [],
   "source": [
    "import numpy as np\n",
    "import time \n",
    "import causaltensor as ct\n",
    "from causaltensor import low_rank_M0_Gamma\n",
    "from causaltensor.matlib import generate_Z\n",
    "import causaltensor.cauest.DebiasConvex as DC\n",
    "import pandas as pd\n",
    "import pickle"
   ]
  },
  {
   "attachments": {},
   "cell_type": "markdown",
   "metadata": {},
   "source": [
    "## Semi-synthetic experiments on Sales data"
   ]
  },
  {
   "cell_type": "code",
   "execution_count": 67,
   "metadata": {},
   "outputs": [],
   "source": [
    "M0 = pickle.load(open('sales.p', 'rb'))\n",
    "s = np.linalg.svd(M0, full_matrices=False, compute_uv=False)\n",
    "\n",
    "from importlib import reload\n",
    "reload(DC)\n",
    "\n",
    "def experiments_run(M0, num_experiment=1, sigma = 0.1):\n",
    "    results = 0\n",
    "    for T in range(num_experiment):\n",
    "        while True:\n",
    "            a = np.random.randint(20)+5\n",
    "            b = np.random.randint(20)+5\n",
    "            Z, info = generate_Z(pattern_tuple = ['adaptive', (a, b)], M0=M0)\n",
    "            if (info == 'fail'):\n",
    "                continue\n",
    "            break\n",
    "        tau_star = np.mean(M0)/5\n",
    "        E = np.random.normal(loc=0, scale=sigma, size=M0.shape)\n",
    "        O = M0 + tau_star * Z + E   \n",
    "        M, tau, std = DC.DC_PR_auto_rank(O, Z)\n",
    "        results += np.linalg.norm(tau-tau_star) / np.linalg.norm(tau_star)\n",
    "    return results / num_experiment    \n",
    "\n",
    "np.random.seed(0)\n",
    "error = experiments_run(M0, num_experiment=10, sigma = 0)"
   ]
  },
  {
   "cell_type": "code",
   "execution_count": 68,
   "metadata": {},
   "outputs": [],
   "source": [
    "assert error < 0.1"
   ]
  },
  {
   "cell_type": "code",
   "execution_count": 69,
   "metadata": {},
   "outputs": [
    {
     "data": {
      "text/plain": [
       "0.024746699133216143"
      ]
     },
     "execution_count": 69,
     "metadata": {},
     "output_type": "execute_result"
    }
   ],
   "source": [
    "error"
   ]
  }
 ],
 "metadata": {
  "kernelspec": {
   "display_name": "Python 3.7.4 ('base')",
   "language": "python",
   "name": "python3"
  },
  "language_info": {
   "codemirror_mode": {
    "name": "ipython",
    "version": 3
   },
   "file_extension": ".py",
   "mimetype": "text/x-python",
   "name": "python",
   "nbconvert_exporter": "python",
   "pygments_lexer": "ipython3",
   "version": "3.10.9"
  },
  "orig_nbformat": 4,
  "vscode": {
   "interpreter": {
    "hash": "40d3a090f54c6569ab1632332b64b2c03c39dcf918b08424e98f38b5ae0af88f"
   }
  }
 },
 "nbformat": 4,
 "nbformat_minor": 2
}
