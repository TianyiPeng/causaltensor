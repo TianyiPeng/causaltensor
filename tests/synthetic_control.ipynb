{
 "cells": [
  {
   "cell_type": "code",
   "execution_count": 1,
   "metadata": {},
   "outputs": [],
   "source": [
    "import sys\n",
    "sys.path.append('c:\\\\Users\\\\Arushi Jain\\\\Dropbox (MIT)\\\\RAship\\\\causaltensor')\n",
    "import numpy as np\n",
    "from src.causaltensor.cauest.SyntheticControl import synthetic_control"
   ]
  },
  {
   "cell_type": "code",
   "execution_count": 2,
   "metadata": {},
   "outputs": [
    {
     "name": "stdout",
     "output_type": "stream",
     "text": [
      "(39, 31)\n"
     ]
    }
   ],
   "source": [
    "O_raw = np.loadtxt('MLAB_data.txt')\n",
    "O = O_raw[8:, :] ## remove features that are not relevant in this demo\n",
    "O = O.T\n",
    "print(O.shape)\n",
    "## now O consists of the annual tobacco consumption of 39 states from 1970 to 2000\n",
    "## California is the last row of O"
   ]
  },
  {
   "cell_type": "code",
   "execution_count": 3,
   "metadata": {},
   "outputs": [],
   "source": [
    "Z = np.zeros_like(O) # Z has the same shape as O\n",
    "Z[-1, 19:] = 1 #Only California (the last row) used the intervention, which started in 1989"
   ]
  },
  {
   "cell_type": "code",
   "execution_count": 4,
   "metadata": {},
   "outputs": [
    {
     "name": "stdout",
     "output_type": "stream",
     "text": [
      "Final: [False False False  True  True False False False  True False  True  True\n",
      " False False  True  True False False False  True  True False False  True\n",
      " False False False False False False  True False False  True False  True\n",
      "  True False], 0.6308614248328701\n",
      "The estimation of Synthetic Control is -15.98342992092956\n"
     ]
    },
    {
     "name": "stderr",
     "output_type": "stream",
     "text": [
      "c:\\Users\\Arushi Jain\\AppData\\Local\\Programs\\Python\\Python310\\lib\\site-packages\\sklearn\\linear_model\\_coordinate_descent.py:648: ConvergenceWarning: Objective did not converge. You might want to increase the number of iterations, check the scale of the features or consider increasing regularisation. Duality gap: 2.371e-01, tolerance: 3.122e-02\n",
      "  model = cd_fast.enet_coordinate_descent(\n",
      "c:\\Users\\Arushi Jain\\AppData\\Local\\Programs\\Python\\Python310\\lib\\site-packages\\sklearn\\linear_model\\_coordinate_descent.py:648: ConvergenceWarning: Objective did not converge. You might want to increase the number of iterations, check the scale of the features or consider increasing regularisation. Duality gap: 2.830e-01, tolerance: 3.122e-02\n",
      "  model = cd_fast.enet_coordinate_descent(\n",
      "c:\\Users\\Arushi Jain\\AppData\\Local\\Programs\\Python\\Python310\\lib\\site-packages\\sklearn\\linear_model\\_coordinate_descent.py:648: ConvergenceWarning: Objective did not converge. You might want to increase the number of iterations, check the scale of the features or consider increasing regularisation. Duality gap: 2.952e-01, tolerance: 3.122e-02\n",
      "  model = cd_fast.enet_coordinate_descent(\n",
      "c:\\Users\\Arushi Jain\\AppData\\Local\\Programs\\Python\\Python310\\lib\\site-packages\\sklearn\\linear_model\\_coordinate_descent.py:648: ConvergenceWarning: Objective did not converge. You might want to increase the number of iterations, check the scale of the features or consider increasing regularisation. Duality gap: 1.119e-01, tolerance: 3.122e-02\n",
      "  model = cd_fast.enet_coordinate_descent(\n",
      "c:\\Users\\Arushi Jain\\AppData\\Local\\Programs\\Python\\Python310\\lib\\site-packages\\sklearn\\linear_model\\_coordinate_descent.py:648: ConvergenceWarning: Objective did not converge. You might want to increase the number of iterations, check the scale of the features or consider increasing regularisation. Duality gap: 9.609e-02, tolerance: 3.122e-02\n",
      "  model = cd_fast.enet_coordinate_descent(\n",
      "c:\\Users\\Arushi Jain\\AppData\\Local\\Programs\\Python\\Python310\\lib\\site-packages\\sklearn\\linear_model\\_coordinate_descent.py:648: ConvergenceWarning: Objective did not converge. You might want to increase the number of iterations, check the scale of the features or consider increasing regularisation. Duality gap: 7.270e-02, tolerance: 3.122e-02\n",
      "  model = cd_fast.enet_coordinate_descent(\n",
      "c:\\Users\\Arushi Jain\\AppData\\Local\\Programs\\Python\\Python310\\lib\\site-packages\\sklearn\\linear_model\\_coordinate_descent.py:648: ConvergenceWarning: Objective did not converge. You might want to increase the number of iterations, check the scale of the features or consider increasing regularisation. Duality gap: 5.723e-02, tolerance: 3.122e-02\n",
      "  model = cd_fast.enet_coordinate_descent(\n",
      "c:\\Users\\Arushi Jain\\AppData\\Local\\Programs\\Python\\Python310\\lib\\site-packages\\sklearn\\linear_model\\_coordinate_descent.py:648: ConvergenceWarning: Objective did not converge. You might want to increase the number of iterations, check the scale of the features or consider increasing regularisation. Duality gap: 5.169e-02, tolerance: 3.122e-02\n",
      "  model = cd_fast.enet_coordinate_descent(\n",
      "c:\\Users\\Arushi Jain\\AppData\\Local\\Programs\\Python\\Python310\\lib\\site-packages\\sklearn\\linear_model\\_coordinate_descent.py:648: ConvergenceWarning: Objective did not converge. You might want to increase the number of iterations, check the scale of the features or consider increasing regularisation. Duality gap: 4.849e-02, tolerance: 3.122e-02\n",
      "  model = cd_fast.enet_coordinate_descent(\n",
      "c:\\Users\\Arushi Jain\\AppData\\Local\\Programs\\Python\\Python310\\lib\\site-packages\\sklearn\\linear_model\\_coordinate_descent.py:648: ConvergenceWarning: Objective did not converge. You might want to increase the number of iterations, check the scale of the features or consider increasing regularisation. Duality gap: 4.614e-02, tolerance: 3.122e-02\n",
      "  model = cd_fast.enet_coordinate_descent(\n",
      "c:\\Users\\Arushi Jain\\AppData\\Local\\Programs\\Python\\Python310\\lib\\site-packages\\sklearn\\linear_model\\_coordinate_descent.py:648: ConvergenceWarning: Objective did not converge. You might want to increase the number of iterations, check the scale of the features or consider increasing regularisation. Duality gap: 5.600e-02, tolerance: 3.122e-02\n",
      "  model = cd_fast.enet_coordinate_descent(\n"
     ]
    }
   ],
   "source": [
    "M, tau = synthetic_control(O.T, Z.T)  \n",
    "print('The estimation of Synthetic Control is', tau)"
   ]
  },
  {
   "cell_type": "code",
   "execution_count": null,
   "metadata": {},
   "outputs": [],
   "source": []
  }
 ],
 "metadata": {
  "kernelspec": {
   "display_name": "Python 3",
   "language": "python",
   "name": "python3"
  },
  "language_info": {
   "codemirror_mode": {
    "name": "ipython",
    "version": 3
   },
   "file_extension": ".py",
   "mimetype": "text/x-python",
   "name": "python",
   "nbconvert_exporter": "python",
   "pygments_lexer": "ipython3",
   "version": "3.10.8"
  },
  "orig_nbformat": 4
 },
 "nbformat": 4,
 "nbformat_minor": 2
}
