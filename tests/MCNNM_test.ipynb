{
 "cells": [
  {
   "cell_type": "code",
   "execution_count": 1,
   "metadata": {},
   "outputs": [],
   "source": [
    "import pandas as pd\n",
    "import numpy as np\n",
    "\n",
    "import matplotlib.pyplot as plt\n",
    "import seaborn as sns"
   ]
  },
  {
   "cell_type": "markdown",
   "metadata": {},
   "source": [
    "### Package Install"
   ]
  },
  {
   "cell_type": "code",
   "execution_count": null,
   "metadata": {},
   "outputs": [],
   "source": [
    "!pip install causaltensor\n",
    "import causaltensor"
   ]
  },
  {
   "cell_type": "markdown",
   "metadata": {},
   "source": [
    "### Data Generation"
   ]
  },
  {
   "cell_type": "code",
   "execution_count": 10,
   "metadata": {},
   "outputs": [],
   "source": [
    "from causaltensor.matlib import low_rank_M0_normal\n",
    "from causaltensor.matlib import iid_treatment\n",
    "\n",
    "import causaltensor.cauest.MCNNM as MC \n",
    "\n",
    "def generate(n1=100, n2=100, r=2, treat_prob=0.1, noise_scale=0.1, treat_scale=0.2, seed=42, covariates=False, missing_data=False):\n",
    "    np.random.seed(seed)\n",
    "    M0 = low_rank_M0_normal(n1=n1, n2=n2, r=r)\n",
    "    Z = iid_treatment(prob=treat_prob, shape=M0.shape)\n",
    "    a = np.random.normal(size=(n1, 1))\n",
    "    b = np.random.normal(size=(n2, 1))\n",
    "    abs_mean_M = np.mean(np.abs(M0))\n",
    "    tau = abs_mean_M * treat_scale\n",
    "    O = M0 + a + b.T + tau * Z + np.random.normal(scale=noise_scale*tau, size=M0.shape)\n",
    "    if covariates:\n",
    "        X = np.random.normal(size=(n1, n2, 5))\n",
    "        beta = np.random.normal(size=(5, )) * abs_mean_M\n",
    "        O += np.sum(X * beta, axis=2)\n",
    "    if missing_data:\n",
    "        Omega = np.random.rand(n1, n2) > 0.1\n",
    "    if covariates and missing_data:\n",
    "        return O, M0, Z, a, b, tau, beta, X, Omega\n",
    "    elif covariates:\n",
    "        return O, M0, Z, a, b, tau, beta, X\n",
    "    elif missing_data:\n",
    "        return O, M0, Z, a, b, tau, Omega\n",
    "    else:\n",
    "        return O, M0, Z, a, b, tau"
   ]
  },
  {
   "cell_type": "markdown",
   "metadata": {},
   "source": [
    "### Estimating tau with O and Z\n",
    "\n",
    "`solve_with_regularizer`: solve tau by specifying the penalty for the nulear norm"
   ]
  },
  {
   "cell_type": "code",
   "execution_count": 11,
   "metadata": {},
   "outputs": [
    {
     "name": "stdout",
     "output_type": "stream",
     "text": [
      "0.008327785171842397\n",
      "0.003044323661370706\n",
      "0.007947726226714842\n",
      "0.002939786211748638\n",
      "0.0011224985898514324\n",
      "0.005343554003100552\n",
      "8.143302736964846e-05\n",
      "0.015225458418557561\n",
      "0.005513430575071552\n",
      "0.010271288978259826\n"
     ]
    }
   ],
   "source": [
    "from importlib import reload\n",
    "reload(MC)\n",
    "\n",
    "for T in range(10):\n",
    "    O, M0, Z, a, b, tau = generate(seed=T)\n",
    "    solver = MC.MCNNMPanelSolver(O, Z)\n",
    "    res = solver.solve_with_regularizer(l=2)\n",
    "    print(np.linalg.norm(res.tau - tau) / np.linalg.norm(tau))"
   ]
  },
  {
   "cell_type": "markdown",
   "metadata": {},
   "source": [
    "`solve_with_suggested_rank`: solve tau by specifying the suggested rank "
   ]
  },
  {
   "cell_type": "code",
   "execution_count": 12,
   "metadata": {},
   "outputs": [
    {
     "name": "stdout",
     "output_type": "stream",
     "text": [
      "0.10883277996841537\n",
      "0.02908401564937432\n",
      "0.39736857143581905\n",
      "0.03381671413699322\n",
      "0.03755850745630404\n",
      "0.3419893715575813\n",
      "0.04213909134611238\n",
      "0.4565049604963808\n",
      "0.1930488063215501\n",
      "0.2767454013352116\n"
     ]
    }
   ],
   "source": [
    "for T in range(10):\n",
    "    O, M0, Z, a, b, tau = generate(seed=T)\n",
    "    solver = MC.MCNNMPanelSolver(O, Z)\n",
    "    res = solver.solve_with_suggested_rank(suggest_r=2)\n",
    "    print(np.linalg.norm(res.tau - tau) / np.linalg.norm(tau))"
   ]
  },
  {
   "cell_type": "markdown",
   "metadata": {},
   "source": [
    "### Estimating tau with O, Z, and covariates X"
   ]
  },
  {
   "cell_type": "code",
   "execution_count": 50,
   "metadata": {},
   "outputs": [
    {
     "name": "stdout",
     "output_type": "stream",
     "text": [
      "0.011225944895083358\n",
      "0.001126914741559473\n",
      "0.002880225514436671\n",
      "0.000292173946190375\n",
      "0.017976003987577927\n",
      "0.00032472318161826173\n",
      "0.0026517085273753314\n",
      "0.00013970377313305375\n",
      "0.0021113411934980983\n",
      "0.0004295332598712637\n",
      "0.01520082772404798\n",
      "0.0002604210664437872\n",
      "0.0010598020474344926\n",
      "0.0008377372512665197\n",
      "0.028510099644404673\n",
      "0.0007885054125328276\n",
      "0.010877781130478952\n",
      "0.00028657698580058735\n",
      "0.01768813112197616\n",
      "0.0008211927728207738\n"
     ]
    }
   ],
   "source": [
    "from importlib import reload\n",
    "reload(MC)\n",
    "\n",
    "for T in range(10):\n",
    "    O, M0, Z, a, b, tau, beta, X = generate(covariates=True, seed=T)\n",
    "    solver = MC.MCNNMPanelSolver(O, Z, X=X)\n",
    "    res = solver.solve_with_regularizer(l=2)\n",
    "    print(np.linalg.norm(res.tau - tau) / np.linalg.norm(tau))\n",
    "    print(np.linalg.norm(res.beta - beta) / np.linalg.norm(beta))"
   ]
  },
  {
   "cell_type": "markdown",
   "metadata": {},
   "source": [
    "### Estimating tau with O, Z, covariates X, and observing data pattern Omega"
   ]
  },
  {
   "cell_type": "code",
   "execution_count": 60,
   "metadata": {},
   "outputs": [
    {
     "name": "stdout",
     "output_type": "stream",
     "text": [
      "0.01381943141084278\n",
      "0.0011944667009199843\n",
      "0.006476455355013564\n",
      "0.00041889932058516717\n",
      "0.022902607170113744\n",
      "0.0003498403606104332\n",
      "0.0017119614343101702\n",
      "0.00014535748809506386\n",
      "0.0012080643239488177\n",
      "0.0003431078107535029\n",
      "0.015255150461104013\n",
      "0.0002628078359347144\n",
      "0.001734066738938527\n",
      "0.0007138069012078162\n",
      "0.028109279225065308\n",
      "0.0010752776553787156\n",
      "0.010685453010939247\n",
      "0.00024142346344556935\n",
      "0.025895067928505985\n",
      "0.0009523520900522919\n"
     ]
    }
   ],
   "source": [
    "from importlib import reload\n",
    "reload(MC)\n",
    "\n",
    "for T in range(10):\n",
    "    O, M0, Z, a, b, tau, beta, X, Omega = generate(covariates=True, seed=T, missing_data=True)\n",
    "    solver = MC.MCNNMPanelSolver(O, Z, X=X, Omega=Omega)\n",
    "    res = solver.solve_with_regularizer(l=2)\n",
    "    print(np.linalg.norm(res.tau - tau) / np.linalg.norm(tau))\n",
    "    print(np.linalg.norm(res.beta - beta) / np.linalg.norm(beta))"
   ]
  },
  {
   "cell_type": "markdown",
   "metadata": {},
   "source": [
    "`solve_with_cross_validation()`: find the best l with cross validation"
   ]
  },
  {
   "cell_type": "code",
   "execution_count": 8,
   "metadata": {},
   "outputs": [
    {
     "name": "stderr",
     "output_type": "stream",
     "text": [
      "/Users/tianyipeng/Documents/Operations Research Code/21-08 Low-rank Matrix Code Library/Package Publication/causaltensor/src/causaltensor/cauest/MCNNM.py:251: RuntimeWarning: invalid value encountered in double_scalars\n",
      "  res.tau = np.sum((self.O - res.baseline_model)*self.Z) / np.sum(self.Z)\n"
     ]
    },
    {
     "name": "stdout",
     "output_type": "stream",
     "text": [
      "0.23023731395560307\n",
      "0.03268633064652568\n",
      "0.35001664919373787\n",
      "0.013099989239193576\n",
      "0.7927320895229254\n",
      "0.011053292882887674\n",
      "0.04963385932086533\n",
      "0.004967285705441626\n",
      "0.05267566376197711\n",
      "0.011357938281373646\n",
      "0.5990871653502178\n",
      "0.009532835938152085\n",
      "0.018063605297096323\n",
      "0.020336647160082336\n",
      "0.7651364288635317\n",
      "0.03444836593794891\n",
      "0.4095547537915799\n",
      "0.008491248590100588\n",
      "0.7029503044540891\n",
      "0.0294794634088909\n"
     ]
    }
   ],
   "source": [
    "reload(MC)\n",
    "\n",
    "for T in range(10):\n",
    "    O, M0, Z, a, b, tau, beta, X, Omega = generate(covariates=True, seed=T, missing_data=True)\n",
    "    solver = MC.MCNNMPanelSolver(O, Z, X=X, Omega=Omega)\n",
    "    res = solver.solve_with_cross_validation()\n",
    "    print(np.linalg.norm(res.tau - tau) / np.linalg.norm(tau))\n",
    "    print(np.linalg.norm(res.beta - beta) / np.linalg.norm(beta))"
   ]
  },
  {
   "cell_type": "code",
   "execution_count": null,
   "metadata": {},
   "outputs": [],
   "source": []
  }
 ],
 "metadata": {
  "kernelspec": {
   "display_name": "base",
   "language": "python",
   "name": "python3"
  },
  "language_info": {
   "codemirror_mode": {
    "name": "ipython",
    "version": 3
   },
   "file_extension": ".py",
   "mimetype": "text/x-python",
   "name": "python",
   "nbconvert_exporter": "python",
   "pygments_lexer": "ipython3",
   "version": "3.10.9"
  },
  "metadata": {
   "interpreter": {
    "hash": "dca0ade3e726a953b501b15e8e990130d2b7799f14cfd9f4271676035ebe5511"
   }
  },
  "orig_nbformat": 2,
  "vscode": {
   "interpreter": {
    "hash": "40d3a090f54c6569ab1632332b64b2c03c39dcf918b08424e98f38b5ae0af88f"
   }
  }
 },
 "nbformat": 4,
 "nbformat_minor": 2
}
