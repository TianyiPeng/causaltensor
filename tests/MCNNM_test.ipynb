{
 "cells": [
  {
   "cell_type": "code",
   "execution_count": 1,
   "metadata": {},
   "outputs": [],
   "source": [
    "import pandas as pd\n",
    "import numpy as np\n",
    "\n",
    "import matplotlib.pyplot as plt\n",
    "import seaborn as sns"
   ]
  },
  {
   "cell_type": "markdown",
   "metadata": {},
   "source": [
    "### Package Install"
   ]
  },
  {
   "cell_type": "code",
   "execution_count": 2,
   "metadata": {},
   "outputs": [],
   "source": [
    "#!pip install causaltensor\n",
    "import causaltensor"
   ]
  },
  {
   "cell_type": "markdown",
   "metadata": {},
   "source": [
    "### Data Generation"
   ]
  },
  {
   "cell_type": "code",
   "execution_count": 3,
   "metadata": {},
   "outputs": [],
   "source": [
    "from causaltensor.matlib import low_rank_M0_normal\n",
    "from causaltensor.matlib import iid_treatment\n",
    "\n",
    "import causaltensor.cauest.MCNNM as MC \n",
    "\n",
    "def generate(n1=100, n2=100, r=2, treat_prob=0.1, noise_scale=0.1, treat_scale=0.2, seed=42, covariates=False, missing_data=False):\n",
    "    np.random.seed(seed)\n",
    "    M0 = low_rank_M0_normal(n1=n1, n2=n2, r=r)\n",
    "    Z = iid_treatment(prob=treat_prob, shape=M0.shape)\n",
    "    a = np.random.normal(size=(n1, 1))\n",
    "    b = np.random.normal(size=(n2, 1))\n",
    "    abs_mean_M = np.mean(np.abs(M0))\n",
    "    tau = abs_mean_M * treat_scale\n",
    "    O = M0 + a + b.T + tau * Z + np.random.normal(scale=noise_scale*tau, size=M0.shape)\n",
    "    if covariates:\n",
    "        X = np.random.normal(size=(n1, n2, 5))\n",
    "        beta = np.random.normal(size=(5, )) * abs_mean_M\n",
    "        O += np.sum(X * beta, axis=2)\n",
    "    if missing_data:\n",
    "        Omega = np.random.rand(n1, n2) > 0.1\n",
    "    if covariates and missing_data:\n",
    "        return O, M0, Z, a, b, tau, beta, X, Omega\n",
    "    elif covariates:\n",
    "        return O, M0, Z, a, b, tau, beta, X\n",
    "    elif missing_data:\n",
    "        return O, M0, Z, a, b, tau, Omega\n",
    "    else:\n",
    "        return O, M0, Z, a, b, tau"
   ]
  },
  {
   "cell_type": "markdown",
   "metadata": {},
   "source": [
    "### Estimating tau with observation matrix O and treatment pattern Z\n",
    "\n",
    "`solve_with_regularizer`: solve tau by specifying the penalty for the nulear norm"
   ]
  },
  {
   "cell_type": "code",
   "execution_count": 4,
   "metadata": {},
   "outputs": [
    {
     "name": "stdout",
     "output_type": "stream",
     "text": [
      "0.008327785171842397\n",
      "0.003044323661370706\n",
      "0.007947726226714842\n",
      "0.002939786211748638\n",
      "0.0011224985898514324\n",
      "0.005343554003100552\n",
      "8.143302736964846e-05\n",
      "0.015225458418557561\n",
      "0.005513430575071552\n",
      "0.010271288978259826\n"
     ]
    }
   ],
   "source": [
    "from importlib import reload\n",
    "reload(MC)\n",
    "\n",
    "for T in range(10):\n",
    "    O, M0, Z, a, b, tau = generate(seed=T)\n",
    "    solver = MC.MCNNMPanelSolver(Z=Z)\n",
    "    res = solver.solve_with_regularizer(O = O, l=2)\n",
    "    print(np.linalg.norm(res.tau - tau) / np.linalg.norm(tau))"
   ]
  },
  {
   "cell_type": "markdown",
   "metadata": {},
   "source": [
    "`solve_with_suggested_rank`: solve tau by specifying the suggested rank "
   ]
  },
  {
   "cell_type": "code",
   "execution_count": 5,
   "metadata": {},
   "outputs": [
    {
     "name": "stdout",
     "output_type": "stream",
     "text": [
      "0.10883277996841537\n",
      "0.02908401564937432\n",
      "0.39736857143581905\n",
      "0.03381671413699322\n",
      "0.03755850745630404\n",
      "0.3419893715575813\n",
      "0.04213909134611238\n",
      "0.4565049604963808\n",
      "0.1930488063215501\n",
      "0.2767454013352116\n"
     ]
    }
   ],
   "source": [
    "for T in range(10):\n",
    "    O, M0, Z, a, b, tau = generate(seed=T)\n",
    "    solver = MC.MCNNMPanelSolver(Z)\n",
    "    res = solver.solve_with_suggested_rank(O=O, suggest_r=2)\n",
    "    print(np.linalg.norm(res.tau - tau) / np.linalg.norm(tau))"
   ]
  },
  {
   "cell_type": "markdown",
   "metadata": {},
   "source": [
    "### Estimating tau with O, Z, and covariates X"
   ]
  },
  {
   "cell_type": "code",
   "execution_count": 6,
   "metadata": {},
   "outputs": [
    {
     "name": "stdout",
     "output_type": "stream",
     "text": [
      "0.008429305047132312\n",
      "0.0012889787652232245\n",
      "0.0031585711561211323\n",
      "0.0002720594882359827\n",
      "0.007905375555744353\n",
      "0.0003580027933435357\n",
      "0.002957335631807289\n",
      "0.0001281643392221225\n",
      "0.0013761484678189782\n",
      "0.00047186774614144675\n",
      "0.005316098650709775\n",
      "0.000292281113778584\n",
      "0.000360445902342246\n",
      "0.0009617708448097849\n",
      "0.015543270157182931\n",
      "0.0008608894425488633\n",
      "0.005493215610871625\n",
      "0.0003768622426017995\n",
      "0.010123260561137092\n",
      "0.0009214261490258841\n"
     ]
    }
   ],
   "source": [
    "from importlib import reload\n",
    "reload(MC)\n",
    "\n",
    "for T in range(10):\n",
    "    O, M0, Z, a, b, tau, beta, X = generate(covariates=True, seed=T)\n",
    "    solver = MC.MCNNMPanelSolver(Z, X=X)\n",
    "    res = solver.solve_with_regularizer(O=O, l=2)\n",
    "    print(np.linalg.norm(res.tau - tau) / np.linalg.norm(tau))\n",
    "    print(np.linalg.norm(res.beta - beta) / np.linalg.norm(beta))"
   ]
  },
  {
   "cell_type": "markdown",
   "metadata": {},
   "source": [
    "### Estimating tau with O, Z, covariates X, and observing data pattern Omega\n",
    "- Omega[i,j] is 0 is the data is missing; otherwise 1"
   ]
  },
  {
   "cell_type": "code",
   "execution_count": 7,
   "metadata": {},
   "outputs": [
    {
     "name": "stdout",
     "output_type": "stream",
     "text": [
      "0.010454270610855972\n",
      "0.0013445041763034185\n",
      "0.0012413307875458082\n",
      "0.00040040188768612295\n",
      "0.010248134849797178\n",
      "0.0003765501537210193\n",
      "0.0023761130031284047\n",
      "0.0001322713104957456\n",
      "0.00036413911982830123\n",
      "0.0003492938774685641\n",
      "0.005120723965109225\n",
      "0.00027396703513245805\n",
      "0.0025576315148092385\n",
      "0.0008698513346549436\n",
      "0.01522374313899277\n",
      "0.0010570510141343714\n",
      "0.004751602929095883\n",
      "0.00027605747065825517\n",
      "0.01398660901178906\n",
      "0.001070979093262242\n"
     ]
    }
   ],
   "source": [
    "from importlib import reload\n",
    "reload(MC)\n",
    "\n",
    "for T in range(10):\n",
    "    O, M0, Z, a, b, tau, beta, X, Omega = generate(covariates=True, seed=T, missing_data=True)\n",
    "    solver = MC.MCNNMPanelSolver(Z=Z, X=X, Omega=Omega)\n",
    "    res = solver.solve_with_regularizer(O=O, l=2)\n",
    "    print(np.linalg.norm(res.tau - tau) / np.linalg.norm(tau))\n",
    "    print(np.linalg.norm(res.beta - beta) / np.linalg.norm(beta))"
   ]
  },
  {
   "cell_type": "markdown",
   "metadata": {},
   "source": [
    "`solve_with_cross_validation()`: find the best penalty coefficient $l$ with cross validation"
   ]
  },
  {
   "cell_type": "code",
   "execution_count": 8,
   "metadata": {},
   "outputs": [
    {
     "name": "stderr",
     "output_type": "stream",
     "text": [
      "/Users/tianyipeng/Documents/Operations Research Code/21-08 Low-rank Matrix Code Library/Package Publication/causaltensor/src/causaltensor/cauest/MCNNM.py:127: RuntimeWarning: invalid value encountered in double_scalars\n",
      "  tau = np.sum((O - baseline)*self.Z) / np.sum(self.Z)\n"
     ]
    },
    {
     "name": "stdout",
     "output_type": "stream",
     "text": [
      "0.03570160514472806\n",
      "0.009259224806406617\n",
      "0.04133776790223322\n",
      "0.0036528136126152437\n",
      "0.10672500098841158\n",
      "0.0030005383786561625\n",
      "0.0009462885944692022\n",
      "0.0013596483068011624\n",
      "0.0008620897232990341\n",
      "0.0030106657080206617\n",
      "0.08049774032884975\n",
      "0.002405057948759241\n",
      "0.0006486756517671842\n",
      "0.005506890610706509\n",
      "0.11064431378419916\n",
      "0.009442332196700993\n",
      "0.051966120324297\n",
      "0.002134813728555734\n",
      "0.10165873469251138\n",
      "0.007865736303514075\n"
     ]
    }
   ],
   "source": [
    "reload(MC)\n",
    "\n",
    "for T in range(10):\n",
    "    O, M0, Z, a, b, tau, beta, X, Omega = generate(covariates=True, seed=T, missing_data=True)\n",
    "    solver = MC.MCNNMPanelSolver(Z=Z, X=X, Omega=Omega)\n",
    "    res = solver.solve_with_cross_validation(O=O)\n",
    "    print(np.linalg.norm(res.tau - tau) / np.linalg.norm(tau))\n",
    "    print(np.linalg.norm(res.beta - beta) / np.linalg.norm(beta))"
   ]
  }
 ],
 "metadata": {
  "kernelspec": {
   "display_name": "base",
   "language": "python",
   "name": "python3"
  },
  "language_info": {
   "codemirror_mode": {
    "name": "ipython",
    "version": 3
   },
   "file_extension": ".py",
   "mimetype": "text/x-python",
   "name": "python",
   "nbconvert_exporter": "python",
   "pygments_lexer": "ipython3",
   "version": "3.10.9"
  },
  "metadata": {
   "interpreter": {
    "hash": "dca0ade3e726a953b501b15e8e990130d2b7799f14cfd9f4271676035ebe5511"
   }
  },
  "orig_nbformat": 2,
  "vscode": {
   "interpreter": {
    "hash": "40d3a090f54c6569ab1632332b64b2c03c39dcf918b08424e98f38b5ae0af88f"
   }
  }
 },
 "nbformat": 4,
 "nbformat_minor": 2
}
