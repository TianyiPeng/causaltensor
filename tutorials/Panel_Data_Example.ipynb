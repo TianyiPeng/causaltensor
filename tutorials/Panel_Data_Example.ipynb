{
  "cells": [
    {
      "cell_type": "markdown",
      "metadata": {
        "id": "hX0p5BzC9-vK"
      },
      "source": [
        "# Panel Data Example\n",
        "\n",
        "In this example, we will use [California Smoke Data](https://www.tandfonline.com/doi/abs/10.1198/jasa.2009.ap08746) [1] to show the usage of [CausalTensor](https://github.com/TianyiPeng/causaltensor) package.\n",
        "\n",
        "[1] Abadie, Alberto, Alexis Diamond, and Jens Hainmueller. \"Synthetic control methods for comparative case studies: Estimating the effect of California’s tobacco control program.\" Journal of the American statistical Association 105, no. 490 (2010): 493-505."
      ]
    },
    {
      "cell_type": "code",
      "execution_count": 16,
      "metadata": {
        "id": "ecYezNjLW3VZ"
      },
      "outputs": [],
      "source": [
        "import numpy as np"
      ]
    },
    {
      "cell_type": "markdown",
      "metadata": {
        "id": "gAmMRnIV9uDq"
      },
      "source": [
        "Install and import `causaltensor` package"
      ]
    },
    {
      "cell_type": "code",
      "execution_count": 18,
      "metadata": {
        "colab": {
          "base_uri": "https://localhost:8080/"
        },
        "id": "yoqZkdZJ3tAR",
        "outputId": "8268464c-71bb-4664-ef6a-d42f9686cf6e"
      },
      "outputs": [
        {
          "name": "stdout",
          "output_type": "stream",
          "text": [
            "Collecting causaltensor\n",
            "  Obtaining dependency information for causaltensor from https://files.pythonhosted.org/packages/19/53/178b36b775141dce511d6c972037c10dd1c36f08dd81da4b3bbf15b2b5d1/causaltensor-0.1.12-py3-none-any.whl.metadata\n",
            "  Using cached causaltensor-0.1.12-py3-none-any.whl.metadata (5.1 kB)\n",
            "Requirement already satisfied: cvxopt<2.0,>=1.2 in /Users/tianyipeng/anaconda3/lib/python3.11/site-packages (from causaltensor) (1.3.2)\n",
            "Requirement already satisfied: cvxpy<2.0.0,>=1.4.3 in /Users/tianyipeng/anaconda3/lib/python3.11/site-packages (from causaltensor) (1.6.3)\n",
            "Requirement already satisfied: matplotlib<4.0.0,>=3.8.0 in /Users/tianyipeng/anaconda3/lib/python3.11/site-packages (from causaltensor) (3.10.1)\n",
            "Requirement already satisfied: numpy<2.0,>=1.18 in /Users/tianyipeng/anaconda3/lib/python3.11/site-packages (from causaltensor) (1.24.3)\n",
            "Requirement already satisfied: pandas<3.0.0,>=2.1.0 in /Users/tianyipeng/anaconda3/lib/python3.11/site-packages (from causaltensor) (2.2.3)\n",
            "Requirement already satisfied: toolz<0.13.0,>=0.12.1 in /Users/tianyipeng/anaconda3/lib/python3.11/site-packages (from causaltensor) (0.12.1)\n",
            "Requirement already satisfied: tqdm<5.0.0,>=4.67.1 in /Users/tianyipeng/anaconda3/lib/python3.11/site-packages (from causaltensor) (4.67.1)\n",
            "Requirement already satisfied: osqp>=0.6.2 in /Users/tianyipeng/anaconda3/lib/python3.11/site-packages (from cvxpy<2.0.0,>=1.4.3->causaltensor) (0.6.7.post3)\n",
            "Requirement already satisfied: clarabel>=0.5.0 in /Users/tianyipeng/anaconda3/lib/python3.11/site-packages (from cvxpy<2.0.0,>=1.4.3->causaltensor) (0.10.0)\n",
            "Requirement already satisfied: scs>=3.2.4.post1 in /Users/tianyipeng/anaconda3/lib/python3.11/site-packages (from cvxpy<2.0.0,>=1.4.3->causaltensor) (3.2.7.post2)\n",
            "Requirement already satisfied: scipy>=1.11.0 in /Users/tianyipeng/anaconda3/lib/python3.11/site-packages (from cvxpy<2.0.0,>=1.4.3->causaltensor) (1.11.1)\n",
            "Requirement already satisfied: contourpy>=1.0.1 in /Users/tianyipeng/anaconda3/lib/python3.11/site-packages (from matplotlib<4.0.0,>=3.8.0->causaltensor) (1.0.5)\n",
            "Requirement already satisfied: cycler>=0.10 in /Users/tianyipeng/anaconda3/lib/python3.11/site-packages (from matplotlib<4.0.0,>=3.8.0->causaltensor) (0.11.0)\n",
            "Requirement already satisfied: fonttools>=4.22.0 in /Users/tianyipeng/anaconda3/lib/python3.11/site-packages (from matplotlib<4.0.0,>=3.8.0->causaltensor) (4.25.0)\n",
            "Requirement already satisfied: kiwisolver>=1.3.1 in /Users/tianyipeng/anaconda3/lib/python3.11/site-packages (from matplotlib<4.0.0,>=3.8.0->causaltensor) (1.4.4)\n",
            "Requirement already satisfied: packaging>=20.0 in /Users/tianyipeng/anaconda3/lib/python3.11/site-packages (from matplotlib<4.0.0,>=3.8.0->causaltensor) (24.2)\n",
            "Requirement already satisfied: pillow>=8 in /Users/tianyipeng/anaconda3/lib/python3.11/site-packages (from matplotlib<4.0.0,>=3.8.0->causaltensor) (9.4.0)\n",
            "Requirement already satisfied: pyparsing>=2.3.1 in /Users/tianyipeng/anaconda3/lib/python3.11/site-packages (from matplotlib<4.0.0,>=3.8.0->causaltensor) (3.0.9)\n",
            "Requirement already satisfied: python-dateutil>=2.7 in /Users/tianyipeng/anaconda3/lib/python3.11/site-packages (from matplotlib<4.0.0,>=3.8.0->causaltensor) (2.8.2)\n",
            "Requirement already satisfied: pytz>=2020.1 in /Users/tianyipeng/anaconda3/lib/python3.11/site-packages (from pandas<3.0.0,>=2.1.0->causaltensor) (2023.3.post1)\n",
            "Requirement already satisfied: tzdata>=2022.7 in /Users/tianyipeng/anaconda3/lib/python3.11/site-packages (from pandas<3.0.0,>=2.1.0->causaltensor) (2023.3)\n",
            "Requirement already satisfied: qdldl in /Users/tianyipeng/anaconda3/lib/python3.11/site-packages (from osqp>=0.6.2->cvxpy<2.0.0,>=1.4.3->causaltensor) (0.1.7.post5)\n",
            "Requirement already satisfied: six>=1.5 in /Users/tianyipeng/anaconda3/lib/python3.11/site-packages (from python-dateutil>=2.7->matplotlib<4.0.0,>=3.8.0->causaltensor) (1.16.0)\n",
            "Using cached causaltensor-0.1.12-py3-none-any.whl (41 kB)\n",
            "Installing collected packages: causaltensor\n",
            "Successfully installed causaltensor-0.1.12\n",
            "\u001b[33mWARNING: There was an error checking the latest version of pip.\u001b[0m\u001b[33m\n",
            "\u001b[0m"
          ]
        }
      ],
      "source": [
        "!pip install causaltensor #install the causaltensor package\n",
        "import causaltensor as ct"
      ]
    },
    {
      "cell_type": "markdown",
      "metadata": {
        "id": "Eea_IhaL94-s"
      },
      "source": [
        "## Load Data\n",
        "\n",
        "*California Smoke Data* consists of annual tobacco consumption (smoking consumption in packs per capita) of 39 states from 1970 to 2000.\n",
        "\n",
        "Among those states, California (the treated state) started a state-level tobacco control program in 1989; while other states largely serve as control states. The problem at hand is to evaluate the impact of this program to the tobacco consumption in California given the data.\n",
        "\n",
        "Let's first download the data."
      ]
    },
    {
      "cell_type": "code",
      "execution_count": 19,
      "metadata": {
        "colab": {
          "base_uri": "https://localhost:8080/"
        },
        "id": "76t1BOKU8Cqv",
        "outputId": "d6c0d4ba-9acb-4d3c-91eb-a6b22836f788"
      },
      "outputs": [
        {
          "name": "stdout",
          "output_type": "stream",
          "text": [
            "  % Total    % Received % Xferd  Average Speed   Time    Time     Time  Current\n",
            "                                 Dload  Upload   Total   Spent    Left  Speed\n",
            "  0     0    0     0    0     0      0      0 --:--:-- --:--:-- --:--:--     0\n",
            "100  6868  100  6868    0     0  85843      0 --:--:-- --:--:-- --:--:-- 85843\n",
            "Archive:  Synth.zip\n",
            "  inflating: synth_code.m            \n",
            "  inflating: readme_synth_matlab.txt  \n",
            "  inflating: MLAB_data.txt           \n",
            "  inflating: loss_function.m         \n"
          ]
        }
      ],
      "source": [
        "!curl https://github.com/TianyiPeng/causaltensor/raw/main/tutorials/Synth.zip -L -o Synth.zip\n",
        "!unzip -o Synth.zip"
      ]
    },
    {
      "cell_type": "markdown",
      "metadata": {
        "id": "WowuKbHEBqoX"
      },
      "source": [
        "Load and pre-process the outcome data"
      ]
    },
    {
      "cell_type": "code",
      "execution_count": 20,
      "metadata": {
        "colab": {
          "base_uri": "https://localhost:8080/"
        },
        "id": "QMDAQqZuW3Vc",
        "outputId": "fa5a4bfb-52f7-4bc1-a716-84f5ea2f7ac5"
      },
      "outputs": [
        {
          "name": "stdout",
          "output_type": "stream",
          "text": [
            "(39, 31)\n"
          ]
        }
      ],
      "source": [
        "O_raw = np.loadtxt('MLAB_data.txt')\n",
        "O = O_raw[8:, :] ## remove features that are not relevant in this demo\n",
        "O = O.T\n",
        "print(O.shape)\n",
        "## now O consists of the annual tobacco consumption of 39 states from 1970 to 2000\n",
        "## California is the last row of O"
      ]
    },
    {
      "cell_type": "markdown",
      "metadata": {
        "id": "7kGd_eePCxcA"
      },
      "source": [
        "Let's take a look for the California data"
      ]
    },
    {
      "cell_type": "code",
      "execution_count": 21,
      "metadata": {
        "colab": {
          "base_uri": "https://localhost:8080/",
          "height": 448
        },
        "id": "5kWHT611W3Vc",
        "outputId": "60daa228-f6f8-4ede-fe93-cfa4728a36e2"
      },
      "outputs": [
        {
          "data": {
            "text/plain": [
              "[<matplotlib.lines.Line2D at 0x13feeb5d0>]"
            ]
          },
          "execution_count": 21,
          "metadata": {},
          "output_type": "execute_result"
        },
        {
          "data": {
            "image/png": "[encoded data removed]",
            "text/plain": [
              "<Figure size 640x480 with 1 Axes>"
            ]
          },
          "metadata": {},
          "output_type": "display_data"
        }
      ],
      "source": [
        "import matplotlib.pyplot as plt\n",
        "\n",
        "plt.plot(O[-1, :])"
      ]
    },
    {
      "cell_type": "markdown",
      "metadata": {
        "id": "qx0HCNW5DHBh"
      },
      "source": [
        "Prepare intervention matrix $Z$ that indicates whether the intervention is implemented or not"
      ]
    },
    {
      "cell_type": "code",
      "execution_count": 22,
      "metadata": {
        "id": "OKOaSdNDW3Vd"
      },
      "outputs": [],
      "source": [
        "Z = np.zeros_like(O) # Z has the same shape as O\n",
        "Z[-1, 19:] = 1 #Only California (the last row) used the intervention, which started in 1989"
      ]
    },
    {
      "cell_type": "markdown",
      "metadata": {
        "id": "nrbswjpjEPEa"
      },
      "source": [
        "## Estimators\n",
        "\n",
        "Now after we have the outcome data ($O \\in R^{n\\times T}$) and the intervention data ($Z \\in R^{n\\times T}$), let's show a few methods that can be used directly to assess the impact of the intervention."
      ]
    },
    {
      "cell_type": "markdown",
      "metadata": {
        "id": "NHJX5Sd6W3Ve"
      },
      "source": [
        "## DID estimation\n",
        "\n",
        "The first method is difference-in-difference (DID). We use a two-way fixed effects regression to estimate the average treatment effect on the treated entries (ATT). In particular, we solve the following regression by linear regression\n",
        "$$\n",
        "\\min \\sum_{ij} (O_{ij} - a_i - b_j - \\tau Z_{ij})^2\n",
        "$$\n",
        "where $a_{i}, b_{j}$ are unknown fixed effects and $\\tau$ is the ATT.\n",
        "\n",
        "To use DID, simply call\n",
        "```\n",
        "solver = DIDPanelSolver(Z=Z)\n",
        "result = solver.fit(O=O)\n",
        "M, tau = result.M, result.tau\n",
        "````\n",
        "with two return parameters `M` and `tau`. Here $M_{ij}=a_{i}+b_{j}$ is the estimated ideal outcomes; and `tau` is the estimated ATT."
      ]
    },
    {
      "cell_type": "code",
      "execution_count": 23,
      "metadata": {
        "colab": {
          "base_uri": "https://localhost:8080/"
        },
        "id": "cDDMODb7W3Vf",
        "outputId": "360c047d-8c5c-423d-95a0-cf12f35fdfca"
      },
      "outputs": [
        {
          "name": "stdout",
          "output_type": "stream",
          "text": [
            "The estimation of DID is -27.349111083614964\n"
          ]
        }
      ],
      "source": [
        "from causaltensor.cauest.DID import DIDPanelSolver\n",
        "\n",
        "solver = DIDPanelSolver(Z=Z)\n",
        "result = solver.fit(O=O)\n",
        "\n",
        "M, tau = result.M, result.tau\n",
        "print('The estimation of DID is', tau)"
      ]
    },
    {
      "cell_type": "markdown",
      "metadata": {},
      "source": [
        "**Note that M is maintain for backward compatability, you can acces the baseline (M) as:**"
      ]
    },
    {
      "cell_type": "code",
      "execution_count": 24,
      "metadata": {},
      "outputs": [],
      "source": [
        "M, tau = result.baseline, result.tau"
      ]
    },
    {
      "cell_type": "markdown",
      "metadata": {
        "id": "wIyuxrU1W3Vi"
      },
      "source": [
        "## Debiased Convex Panel Regression\n",
        "\n",
        "The second method is De-biaeed Convex Panel Regression (DC-PR) proposed by [2].\n",
        "Note that an issue of the DID model is that, $a_i+b_j$ are often too simple to describe the complex reality of the outcome. As a fix, a low-rank factor model to generalize $a_i+b_j$ has been advocated.\n",
        "\n",
        "The idea in [2] is to firstly solve the following low-rank regression problem by replacing $a_i+b_j$ in DID by a low-rank matrix $M$\n",
        "$$\n",
        "\\hat{M}, \\hat{\\tau} = \\arg\\min \\sum_{ij} (O_{ij}-M_{ij}-\\tau Z_{ij})^2 + \\lambda \\|M\\|_{*}\n",
        "$$\n",
        "where $\\|M\\|_{*}$ is the nuclear norm to penalize the low-rankness of the matrix and $\\lambda$ is a tunning parameter. The second step of [2] is to mitigate the bias induced by the regularization parameter (it also reflects the interaction between $\\hat{M}$ and $Z$):\n",
        "$$\n",
        "\\tau^{d} = \\hat{\\tau} - \\lambda \\frac{<Z, \\hat{U}\\hat{V}^{\\top}>}{\\|P_{\\hat{T}^{\\perp}}(Z)\\|_{F}^2}.\n",
        "$$\n",
        "See [2] for more details.\n",
        "\n",
        "To use DC-PR, call\n",
        "```\n",
        "solver = DCPanelSolver(Z=Z, O=O)\n",
        "result = solver.fit()\n",
        "M, tau, std = result.baseline, result.tau, result.std\n",
        "```\n",
        "where `M`, `tau` are the final estimators for the low-rank matrix and the treatment effects respectively. In addition `std` is the stanard deviation estimation for `tau`, using the formula in [2] for the scenarios when noises are (heterogenoues) independent sub-Gaussian. This function helps to find the proper rank for $M$ (but not very stable, and may be updated later). You can also use\n",
        "```\n",
        "result = solver.fit(suggest_r=2)\n",
        "M, tau, std = result.baseline, result.tau, result.std\n",
        "```\n",
        "if you have an estimation of the rank of $M$ by yourself.\n",
        "\n",
        "[2] Farias, Vivek, Andrew Li, and Tianyi Peng. \"Learning treatment effects in panels with general intervention patterns.\" Advances in Neural Information Processing Systems 34 (2021): 14001-14013."
      ]
    },
    {
      "cell_type": "code",
      "execution_count": 25,
      "metadata": {},
      "outputs": [
        {
          "name": "stdout",
          "output_type": "stream",
          "text": [
            "The estimation of DC with auto rank is -15.880704119035332 3.011813924289439\n"
          ]
        }
      ],
      "source": [
        "from causaltensor.cauest.DebiasConvex import DCPanelSolver\n",
        "\n",
        "solver = DCPanelSolver(Z=Z, O=O)\n",
        "result = solver.fit() # auto_rank=True by default\n",
        "\n",
        "# As before, remember that you can acces the base as result.M or result.baseline\n",
        "M, tau, std = result.baseline, result.tau, result.std\n",
        "print('The estimation of DC with auto rank is', tau, std)"
      ]
    },
    {
      "cell_type": "markdown",
      "metadata": {
        "id": "3T1wQP1A3QG0"
      },
      "source": [
        "We also implemented the panel regression with a hard rank constraint:\n",
        "$$\n",
        "\\hat{M}, \\hat{\\tau} = \\arg\\min_{rank(M)\\leq r} \\sum_{ij} (O_{ij}-M_{ij}-\\tau Z_{ij})^2\n",
        "$$\n",
        "This is a non-convex optimization problem and we used the alternate minimization between $M$ and $\\tau$ for the optimization. The theoretical guarantee for this non-convex method is weaker than the convex method above (the convergence to the global optimum is not always guaranteed), but the practical performance is comparable (sometimes even better).  "
      ]
    },
    {
      "cell_type": "code",
      "execution_count": 26,
      "metadata": {},
      "outputs": [
        {
          "name": "stdout",
          "output_type": "stream",
          "text": [
            "The estimation of DC with suggest rank and non-convex method is: -15.880704119035332 3.011813924289439\n"
          ]
        }
      ],
      "source": [
        "result = solver.fit(suggest_r=2, method='non-convex')\n",
        "M, tau, std = result.baseline, result.tau, result.std\n",
        "print('The estimation of DC with suggest rank and non-convex method is:', tau, std)"
      ]
    },
    {
      "cell_type": "markdown",
      "metadata": {
        "id": "pyJDPbgr4w9B"
      },
      "source": [
        "We also provide an option to select `convex` or `non-convex` panel regression in a data-driven fasion. This is recommended in practice."
      ]
    },
    {
      "cell_type": "code",
      "execution_count": 27,
      "metadata": {},
      "outputs": [
        {
          "name": "stdout",
          "output_type": "stream",
          "text": [
            "The estimation of DC with suggest rank and auto method is: -15.880704119035332 3.011813924289439\n"
          ]
        }
      ],
      "source": [
        "result = solver.fit(suggest_r=2, method='auto')\n",
        "M, tau, std = result.baseline, result.tau, result.std\n",
        "print('The estimation of DC with suggest rank and auto method is:', tau, std)"
      ]
    },
    {
      "cell_type": "markdown",
      "metadata": {
        "id": "5TE1lOIsW3Vg"
      },
      "source": [
        "## SDID estimation\n",
        "\n",
        "The second method is called synthetic difference-in-difference (SDID) proposed by [3]. Readers can read [3] for more details. To use SDID, simply call\n",
        "```\n",
        "solver = SDIDPanelSolver(Z=Z, O=O)\n",
        "result = solver.fit()\n",
        "tau = result.tau\n",
        "```\n",
        "where `tau` is the estimation of SDID.\n",
        "\n",
        "[3] Arkhangelsky, Dmitry, Susan Athey, David A. Hirshberg, Guido W. Imbens, and Stefan Wager. \"Synthetic difference-in-differences.\" American Economic Review 111, no. 12 (2021): 4088-4118."
      ]
    },
    {
      "cell_type": "code",
      "execution_count": 28,
      "metadata": {},
      "outputs": [
        {
          "name": "stdout",
          "output_type": "stream",
          "text": [
            "The estimation of SDID is -15.602326126984675\n"
          ]
        }
      ],
      "source": [
        "from causaltensor.cauest.SDID import SDIDPanelSolver\n",
        "\n",
        "## to use SDID, cvxopt package is needed\n",
        "\n",
        "solver = SDIDPanelSolver(Z=Z, O=O)\n",
        "result = solver.fit()\n",
        "tau = result.tau\n",
        "\n",
        "print('The estimation of SDID is', tau) ## The result matched the result in [2]"
      ]
    },
    {
      "cell_type": "code",
      "execution_count": 29,
      "metadata": {},
      "outputs": [
        {
          "name": "stdout",
          "output_type": "stream",
          "text": [
            "p = 1, SDID tau = -16.54070037591654\n",
            "p = 2, SDID tau = -12.404186180341236\n",
            "p = 3, SDID tau = -18.732037530978\n",
            "p = 4, SDID tau = -12.190802434113351\n",
            "p = 5, SDID tau = -18.66043871411996\n",
            "p = 6, SDID tau = -13.967810657779738\n",
            "p = 7, SDID tau = -16.15254066972357\n",
            "p = 8, SDID tau = -10.730949273166983\n",
            "p = 9, SDID tau = -23.308037378142874\n",
            "p = 10, SDID tau = -13.749051700441838\n",
            "p = 11, SDID tau = -12.63275340733902\n",
            "p = 12, SDID tau = -19.233563389051632\n",
            "p = 13, SDID tau = -19.414339504862216\n",
            "p = 14, SDID tau = -8.267961258006359\n",
            "p = 15, SDID tau = -16.276998135272706\n",
            "p = 16, SDID tau = -10.808111417832722\n",
            "p = 17, SDID tau = -2.0520046242906074\n",
            "p = 18, SDID tau = -15.887881115161814\n",
            "p = 19, SDID tau = 2.851301706918961\n"
          ]
        },
        {
          "data": {
            "image/png": "[encoded data removed]",
            "text/plain": [
              "<Figure size 800x500 with 1 Axes>"
            ]
          },
          "metadata": {},
          "output_type": "display_data"
        }
      ],
      "source": [
        "# Here we generate synthetic time-varying exogenous covariates X_cov.\n",
        "# We want X_cov to have shape (n, T, p), where:\n",
        "#   n: number of units (rows in O)\n",
        "#   T: number of time periods (columns in O)\n",
        "#   p: number of covariates (here we try various p to see 'stability')\n",
        "np.random.seed(0)\n",
        "\n",
        "p_values = range(1, 20)\n",
        "tau_estimates = []\n",
        "\n",
        "n, T = O.shape\n",
        "\n",
        "solver = SDIDPanelSolver(Z=Z, O=O)\n",
        "result = solver.fit()\n",
        "tau_no_cov = result.tau\n",
        "\n",
        "for p in p_values:\n",
        "    X_cov = np.random.randn(n, T, p)\n",
        "\n",
        "    solver = SDIDPanelSolver(Z=Z, O=O, X_cov=X_cov)\n",
        "    result = solver.fit()\n",
        "    tau = result.tau\n",
        "    tau_estimates.append(tau)\n",
        "    print(f\"p = {p}, SDID tau = {tau}\")\n",
        "\n",
        "plt.figure(figsize=(8, 5))\n",
        "plt.plot(p_values, tau_estimates, marker='o', label='SDID tau with fake covariates')\n",
        "plt.axhline(tau_no_cov, color='red', linestyle='--', label='SDID tau without covariates')\n",
        "plt.xlabel(\"Number of Covariates (p)\")\n",
        "plt.ylabel(\"SDID Estimate (tau)\")\n",
        "plt.title(\"SDID Estimates with Different Numbers of Covariates\")\n",
        "plt.legend()\n",
        "plt.grid(True)\n",
        "plt.show()"
      ]
    },
    {
      "cell_type": "markdown",
      "metadata": {
        "id": "e748YgFHW3Vh"
      },
      "source": [
        "## Matrix Completion\n",
        "\n",
        "The third method is based on matrix completion method proposed by [4]. The idea is to solve the following matrix completion problem, only using the outcome data without intervention (i.e., $Z_{ij}=0$)\n",
        "$$\n",
        "\\hat{M}, \\hat{a}, \\hat{b} = \\arg\\min \\sum_{ij, Z_{ij}=0} (O_{ij}-M_{ij} - a_i - b_j)^2 + \\lambda \\|M\\|_{*}\n",
        "$$\n",
        "where $\\|M\\|_{*}$ is the nuclear norm that penalizes the low-rankness of the matrix (here $a_{i}$ and $b_{j}$ are used to improve the empirical performance, as suggested by [4]).\n",
        "\n",
        "After $\\hat{M}, \\hat{a}, \\hat{b}$ are obtained, the ATT $\\hat{\\tau}$ can be estimated simply by\n",
        "$$\n",
        "\\hat{\\tau} = \\frac{\\sum_{ij, Z_{ij}=1} (O_{ij} - \\hat{M}_{ij} - \\hat{a}_i - \\hat{b}_{j})}{\\sum_{ij, Z_{ij}=1} 1}.\n",
        "$$\n",
        "\n",
        "To use this method (referred to as matrix completion with nuclear norm minimization, or MC-NNM), when you have an estimation of the rank of the matrix $M$ (e.g., by checking the spectrum), call\n",
        "```\n",
        "solver = MCNNMPanelSolver(Z=Z)\n",
        "result = solver.solve_with_suggested_rank(O=O, suggest_r=1)\n",
        "M, a, b, tau = result.M, result.row_fixed_effects, result.column_fixed_effects, result.tau\n",
        "```\n",
        "where `M`, `a`, `b` are the optimizers and `tau` is the estimated ATT.\n",
        "\n",
        "We also provide a function to help you find the right parameter $\\lambda$ or rank by cross-validation:\n",
        "```\n",
        "result = solver.solve_with_cross_validation(O=O, K=5)\n",
        "M, a, b, tau = result.M, result.row_fixed_effects, result.column_fixed_effects, result.tau\n",
        "```\n",
        "\n",
        "\n",
        "[4] Athey, Susan, Mohsen Bayati, Nikolay Doudchenko, Guido Imbens, and Khashayar Khosravi. \"Matrix completion methods for causal panel data models.\" Journal of the American Statistical Association 116, no. 536 (2021): 1716-1730."
      ]
    },
    {
      "cell_type": "code",
      "execution_count": 30,
      "metadata": {},
      "outputs": [
        {
          "data": {
            "text/plain": [
              "-22.345401569119492"
            ]
          },
          "execution_count": 30,
          "metadata": {},
          "output_type": "execute_result"
        }
      ],
      "source": [
        "from causaltensor.cauest.MCNNM import MCNNMPanelSolver\n",
        "\n",
        "solver = MCNNMPanelSolver(Z=Z)\n",
        "result = solver.solve_with_suggested_rank(O=O, suggest_r=1)\n",
        "M, a, b, tau = result.M, result.row_fixed_effects, result.column_fixed_effects, result.tau\n",
        "\n",
        "tau"
      ]
    },
    {
      "cell_type": "code",
      "execution_count": 31,
      "metadata": {
        "id": "mKB3_m0WArJw"
      },
      "outputs": [
        {
          "data": {
            "text/plain": [
              "-20.267535327741044"
            ]
          },
          "execution_count": 31,
          "metadata": {},
          "output_type": "execute_result"
        }
      ],
      "source": [
        "result = solver.solve_with_cross_validation(O=O, K=5)\n",
        "M, a, b, tau = result.M, result.row_fixed_effects, result.column_fixed_effects, result.tau\n",
        "\n",
        "tau"
      ]
    }
  ],
  "metadata": {
    "colab": {
      "provenance": []
    },
    "kernelspec": {
      "display_name": ".venv",
      "language": "python",
      "name": "python3"
    },
    "language_info": {
      "codemirror_mode": {
        "name": "ipython",
        "version": 3
      },
      "file_extension": ".py",
      "mimetype": "text/x-python",
      "name": "python",
      "nbconvert_exporter": "python",
      "pygments_lexer": "ipython3",
      "version": "3.11.5"
    },
    "orig_nbformat": 4
  },
  "nbformat": 4,
  "nbformat_minor": 0
}
