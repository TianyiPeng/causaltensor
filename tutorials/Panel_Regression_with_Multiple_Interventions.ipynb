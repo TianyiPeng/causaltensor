{
  "cells": [
    {
      "cell_type": "code",
      "execution_count": 2,
      "metadata": {
        "id": "ecYezNjLW3VZ"
      },
      "outputs": [],
      "source": [
        "import numpy as np\n",
        "import matplotlib.pyplot as plt"
      ]
    },
    {
      "cell_type": "markdown",
      "metadata": {
        "id": "gAmMRnIV9uDq"
      },
      "source": [
        "Install and import `causaltensor` package"
      ]
    },
    {
      "cell_type": "code",
      "execution_count": 3,
      "metadata": {
        "colab": {
          "base_uri": "https://localhost:8080/"
        },
        "id": "yoqZkdZJ3tAR",
        "outputId": "d6631b98-9277-4819-c0bb-3e44930afcf6"
      },
      "outputs": [
        {
          "output_type": "stream",
          "name": "stdout",
          "text": [
            "Collecting causaltensor\n",
            "  Downloading causaltensor-0.1.7-py3-none-any.whl (22 kB)\n",
            "Requirement already satisfied: numpy in /usr/local/lib/python3.10/dist-packages (from causaltensor) (1.23.5)\n",
            "Requirement already satisfied: importlib-metadata in /usr/local/lib/python3.10/dist-packages (from causaltensor) (6.8.0)\n",
            "Requirement already satisfied: zipp>=0.5 in /usr/local/lib/python3.10/dist-packages (from importlib-metadata->causaltensor) (3.16.2)\n",
            "Installing collected packages: causaltensor\n",
            "Successfully installed causaltensor-0.1.7\n"
          ]
        }
      ],
      "source": [
        "!pip install causaltensor #install the causaltensor package\n",
        "import causaltensor as ct"
      ]
    },
    {
      "cell_type": "markdown",
      "source": [
        "We solved the following convex-optimization problem:\n",
        "$$\n",
        "\\hat{M}, \\hat{\\tau} = \\arg\\min \\sum_{ij} \\left(O_{ij} - \\sum_{k}\\tau_{k} Z^{(k)}_{ij} - M_{ij}\\right)^2 + \\lambda \\|M\\|_{*}\n",
        "$$\n",
        "Then, we use the following debiasing formula:\n",
        "$$\n",
        "\\tau^{d} = \\tau - D^{-1}\\Delta\n",
        "$$\n",
        "where $D_{ij} = <P_{T^{\\perp}}(Z_{i}), P_{T^{\\perp}}(Z_{j})>$ and $\\Delta_{i} = \\lambda <Z_{i}, U V^{\\top}>$.\n",
        "\n",
        "See details in [1].\n",
        "\n",
        "To call the function, use\n",
        "```\n",
        "M, tau, std = DC_PR_with_suggested_rank(O, Z, suggest_r=r)\n",
        "```\n",
        "where $Z$ is a list of numpy arrays. For the return parameters, `M` and `tau` are the final estimators (after debiasing) and `std` is the standard deviation estimator for `tau`.\n",
        "\n",
        "Alternatively, we also implemented a non-convex optimization approach for the panel regression by imposing a hard constraint on the rank\n",
        "$$\n",
        "\\hat{M}, \\hat{\\tau} = \\arg\\min_{rank(M)<=r} \\sum_{ij} \\left(O_{ij} - \\sum_{k}\\tau_{k} Z^{(k)}_{ij} - M_{ij}\\right)^2\n",
        "$$\n",
        "\n",
        "To call the function, use\n",
        "```\n",
        "M, tau, std = DC_PR_with_suggested_rank(O, Z, suggest_r=r, method='non-convex')\n",
        "```\n",
        "\n",
        "Finally, we provide an option to select the convex or non-convex method automatically.\n",
        "```\n",
        "M, tau, std = DC_PR_with_suggested_rank(O, Z, suggest_r=r, method='auto')\n",
        "```\n",
        "\n",
        "\n",
        "\n",
        "\n",
        "\n",
        "[1] Farias, Vivek, Andrew Li, and Tianyi Peng. \"Learning treatment effects in panels with general intervention patterns.\" Advances in Neural Information Processing Systems 34 (2021): 14001-14013.\n"
      ],
      "metadata": {
        "id": "-yOmHZ_b56Iv"
      }
    },
    {
      "cell_type": "markdown",
      "metadata": {
        "id": "4mPdgq3V5gXy"
      },
      "source": [
        "## Data Generation"
      ]
    },
    {
      "cell_type": "code",
      "execution_count": 4,
      "metadata": {
        "id": "KaD8G2FaodFl"
      },
      "outputs": [],
      "source": [
        "from causaltensor.matlib import low_rank_M0_normal\n",
        "from causaltensor.matlib import iid_treatment\n",
        "\n",
        "n1 = 100\n",
        "n2 = 100\n",
        "r = 2\n",
        "M0 = low_rank_M0_normal(n1 = n1, n2 = n2, r = r) #low rank baseline matrix\n",
        "\n",
        "num_treat = 5 #number of treatments\n",
        "prob = 0.2\n",
        "Z = []\n",
        "tau = []\n",
        "for k in range(num_treat):\n",
        "    Z.append(iid_treatment(prob=prob, shape=M0.shape)) #treatment patterns\n",
        "    tau.append(np.random.normal(loc=0, scale=1)) #treatment effects"
      ]
    },
    {
      "cell_type": "markdown",
      "metadata": {
        "id": "iBRCmRa65gXz"
      },
      "source": [
        "## Empirical Experiments"
      ]
    },
    {
      "cell_type": "code",
      "execution_count": 5,
      "metadata": {
        "id": "lnULn0KV6Inm"
      },
      "outputs": [],
      "source": [
        "def adding_noise(M0, Z, tau, Sigma, SigmaZ):\n",
        "    num_treat = len(Z)\n",
        "    O = M0 + np.random.normal(loc=0, scale=1, size=M0.shape) * Sigma #add heterogenous noise to the baseline matrix\n",
        "    for k in range(num_treat):\n",
        "        O += Z[k] * tau[k] + Z[k] * SigmaZ[k] * np.random.normal(loc=0, scale=1, size=M0.shape) #add heterogeneous noise to the treatment effects\n",
        "    return O"
      ]
    },
    {
      "cell_type": "code",
      "execution_count": 16,
      "metadata": {
        "id": "Z4yg3urtZx6P"
      },
      "outputs": [],
      "source": [
        "import causaltensor.cauest.DebiasConvex as DebiasConvex\n",
        "\n",
        "Sigma = np.random.rand(M0.shape[0], M0.shape[1])\n",
        "SigmaZ = []\n",
        "for k in range(num_treat):\n",
        "    SigmaZ.append(np.random.rand(M0.shape[0], M0.shape[1]))\n",
        "\n",
        "results = []\n",
        "for T in range(10000):\n",
        "    O = adding_noise(M0, Z, tau, Sigma, SigmaZ)\n",
        "    #M, tau_hat, standard_deviation = DebiasConvex.DC_PR_with_suggested_rank(O, Z, suggest_r=r, non_convex=False)\n",
        "    M, tau_hat, standard_deviation = DebiasConvex.DC_PR_with_suggested_rank(O, Z, suggest_r=r, method='non-convex') #solving a non-convex optimization to obtain M and tau heuristically, which is often faster than the convex optimization above but the theoretical guarantee is weaker\n",
        "    results.append(tau_hat)\n",
        "results = np.array(results)"
      ]
    },
    {
      "cell_type": "code",
      "execution_count": 17,
      "metadata": {
        "colab": {
          "base_uri": "https://localhost:8080/"
        },
        "id": "qSUAkiNZ7UOT",
        "outputId": "989bf260-5611-4ca5-d93a-8f7d3660ecf2"
      },
      "outputs": [
        {
          "output_type": "stream",
          "name": "stdout",
          "text": [
            "the estimated effect  [-1.21282729 -1.26296109 -0.57414363  1.1362189  -0.05693196]\n",
            "the true effect  [-1.2131028537112778, -1.2633874682828619, -0.573932114325327, 1.1358103026462572, -0.05686397234095648]\n"
          ]
        }
      ],
      "source": [
        "print('the estimated effect ', np.mean(results, axis=0)) #the mean of the estimated treatment effects\n",
        "print('the true effect ', tau) #the true treatment effects"
      ]
    },
    {
      "cell_type": "markdown",
      "metadata": {
        "id": "rWplKYEy5gX2"
      },
      "source": [
        "### Empirical distribution of the estimated treatment effects (each sample has a different realization of noises)\n",
        "The plot is obtained over 10000 samples (it cost ~5 minutes in a Macbook Pro)"
      ]
    },
    {
      "cell_type": "code",
      "execution_count": 18,
      "metadata": {
        "colab": {
          "base_uri": "https://localhost:8080/",
          "height": 481
        },
        "id": "qJ4h9SZo7fEH",
        "outputId": "d71b7e4c-efc4-49a6-e7ec-5dd35a1ea8f0"
      },
      "outputs": [
        {
          "output_type": "stream",
          "name": "stdout",
          "text": [
            "the empirical standard deviation 0.022608629966144055\n"
          ]
        },
        {
          "output_type": "display_data",
          "data": {
            "text/plain": [
              "<Figure size 640x480 with 1 Axes>"
            ],
            "image/png": "[encoded data removed]"
          },
          "metadata": {}
        }
      ],
      "source": [
        "_ = plt.hist(results[:, 0], bins=50, density=True, alpha=0.5, label='Empirical Data')\n",
        "plt.xlabel(r'$\\hat{\\tau}_1$', fontsize=15)\n",
        "plt.ylabel('Density')\n",
        "print('the empirical standard deviation', np.std(results[:, 0]))"
      ]
    },
    {
      "cell_type": "markdown",
      "metadata": {
        "id": "5gtJKIM85gX2"
      },
      "source": [
        "### Compute the confidence interval given one sample"
      ]
    },
    {
      "cell_type": "code",
      "execution_count": 19,
      "metadata": {
        "colab": {
          "base_uri": "https://localhost:8080/"
        },
        "id": "dc_urEDIRn-f",
        "outputId": "16224275-69c8-4958-f073-437f9e5f34d6"
      },
      "outputs": [
        {
          "output_type": "stream",
          "name": "stdout",
          "text": [
            "the estimated standard deviation is  0.022147458767602032\n"
          ]
        }
      ],
      "source": [
        "from causaltensor.cauest import projection_T_orthogonal\n",
        "from causaltensor.cauest import panel_regression_CI\n",
        "\n",
        "\n",
        "O = adding_noise(M0, Z, tau, Sigma, SigmaZ)\n",
        "M, tau_hat, std = DebiasConvex.DC_PR_with_suggested_rank(O, Z, suggest_r=r, method='non-convex')\n",
        "print('the estimated standard deviation is ', std[0]) #the standard deviation of estimating tau1"
      ]
    },
    {
      "cell_type": "markdown",
      "metadata": {
        "id": "l1bo-6925gX3"
      },
      "source": [
        "### Comparing the computed confidence interval and empirical distribution"
      ]
    },
    {
      "cell_type": "code",
      "execution_count": 20,
      "metadata": {
        "id": "0UosSsmu77j-",
        "colab": {
          "base_uri": "https://localhost:8080/",
          "height": 463
        },
        "outputId": "4e64c26a-26fb-4949-f74b-fff57a4c2cde"
      },
      "outputs": [
        {
          "output_type": "display_data",
          "data": {
            "text/plain": [
              "<Figure size 640x480 with 1 Axes>"
            ],
            "image/png": "[encoded data removed]"
          },
          "metadata": {}
        }
      ],
      "source": [
        "from scipy.stats import norm\n",
        "data = results[:, 0]\n",
        "\n",
        "# Define the Gaussian function\n",
        "def gaussian(x, mean, std):\n",
        "    return norm.pdf(x, loc=mean, scale=std)\n",
        "\n",
        "# Generate x values for plotting\n",
        "x = np.linspace(data.min(), data.max(), 100)\n",
        "\n",
        "# Plot the empirical data\n",
        "plt.hist(data, bins=50, density=True, alpha=0.5, label='Empirical Data')\n",
        "\n",
        "# Plot the Gaussian fit\n",
        "plt.plot(x, gaussian(x, tau[0], std[0]), 'r-', label='Our Theoretical SD')\n",
        "\n",
        "# Add labels and a legend\n",
        "plt.xlabel(r'$\\hat{\\tau}_1$', fontsize=15)\n",
        "plt.ylabel('Density')\n",
        "plt.legend()\n",
        "\n",
        "# Show the plot\n",
        "plt.show()"
      ]
    },
    {
      "cell_type": "code",
      "execution_count": null,
      "metadata": {
        "id": "SM-Mzlxh5gX3"
      },
      "outputs": [],
      "source": []
    }
  ],
  "metadata": {
    "accelerator": "GPU",
    "colab": {
      "gpuType": "T4",
      "machine_shape": "hm",
      "provenance": []
    },
    "gpuClass": "standard",
    "kernelspec": {
      "display_name": "base",
      "language": "python",
      "name": "python3"
    },
    "language_info": {
      "codemirror_mode": {
        "name": "ipython",
        "version": 3
      },
      "file_extension": ".py",
      "mimetype": "text/x-python",
      "name": "python",
      "nbconvert_exporter": "python",
      "pygments_lexer": "ipython3",
      "version": "3.7.4"
    },
    "orig_nbformat": 4,
    "vscode": {
      "interpreter": {
        "hash": "40d3a090f54c6569ab1632332b64b2c03c39dcf918b08424e98f38b5ae0af88f"
      }
    }
  },
  "nbformat": 4,
  "nbformat_minor": 0
}