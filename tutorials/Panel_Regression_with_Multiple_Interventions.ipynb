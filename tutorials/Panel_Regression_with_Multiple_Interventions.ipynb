{
  "cells": [
    {
      "cell_type": "code",
      "execution_count": 2,
      "metadata": {
        "id": "ecYezNjLW3VZ"
      },
      "outputs": [],
      "source": [
        "import numpy as np\n",
        "import matplotlib.pyplot as plt"
      ]
    },
    {
      "cell_type": "markdown",
      "metadata": {
        "id": "gAmMRnIV9uDq"
      },
      "source": [
        "Install and import `causaltensor` package"
      ]
    },
    {
      "cell_type": "code",
      "execution_count": 3,
      "metadata": {
        "colab": {
          "base_uri": "https://localhost:8080/"
        },
        "id": "yoqZkdZJ3tAR",
        "outputId": "a8798767-d126-4b57-bb2f-b161bc168f51"
      },
      "outputs": [
        {
          "name": "stdout",
          "output_type": "stream",
          "text": [
            "Requirement already satisfied: causaltensor in /Users/tianyipeng/Documents/Operations Research Code/21-08 Low-rank Matrix Code Library/Package Publication/causaltensor/src (0.1.4)\n",
            "Requirement already satisfied: numpy in /opt/anaconda3/lib/python3.7/site-packages (from causaltensor) (1.20.3)\n",
            "Requirement already satisfied: importlib-metadata in /opt/anaconda3/lib/python3.7/site-packages (from causaltensor) (4.8.2)\n",
            "Requirement already satisfied: zipp>=0.5 in /opt/anaconda3/lib/python3.7/site-packages (from importlib-metadata->causaltensor) (3.7.0)\n",
            "Requirement already satisfied: typing-extensions>=3.6.4 in /opt/anaconda3/lib/python3.7/site-packages (from importlib-metadata->causaltensor) (4.4.0)\n"
          ]
        }
      ],
      "source": [
        "!pip install causaltensor #install the causaltensor package\n",
        "import causaltensor as ct"
      ]
    },
    {
      "attachments": {},
      "cell_type": "markdown",
      "metadata": {},
      "source": [
        "## Data Generation"
      ]
    },
    {
      "cell_type": "code",
      "execution_count": 7,
      "metadata": {
        "id": "KaD8G2FaodFl"
      },
      "outputs": [],
      "source": [
        "from causaltensor.matlib import low_rank_M0_normal\n",
        "from causaltensor.matlib import iid_treatment\n",
        "\n",
        "n1 = 100\n",
        "n2 = 100\n",
        "r = 2\n",
        "M0 = low_rank_M0_normal(n1 = n1, n2 = n2, r = r) #low rank baseline matrix\n",
        "\n",
        "num_treat = 5 #number of treatments\n",
        "prob = 0.2\n",
        "Z = []\n",
        "tau = []\n",
        "for k in range(num_treat):\n",
        "    Z.append(iid_treatment(prob=prob, shape=M0.shape)) #treatment patterns\n",
        "    tau.append(np.random.normal(loc=0, scale=1)) #treatment effects"
      ]
    },
    {
      "attachments": {},
      "cell_type": "markdown",
      "metadata": {},
      "source": [
        "## Empirical Experiments"
      ]
    },
    {
      "cell_type": "code",
      "execution_count": 13,
      "metadata": {
        "id": "lnULn0KV6Inm"
      },
      "outputs": [],
      "source": [
        "def adding_noise(M0, Z, tau, Sigma, SigmaZ):\n",
        "    num_treat = len(Z)\n",
        "    O = M0 + np.random.normal(loc=0, scale=1, size=M0.shape) * Sigma #add heterogenous noise to the baseline matrix\n",
        "    for k in range(num_treat):\n",
        "        O += Z[k] * tau[k] + Z[k] * SigmaZ[k] * np.random.normal(loc=0, scale=1, size=M0.shape) #add heterogeneous noise to the treatment effects\n",
        "    return O"
      ]
    },
    {
      "cell_type": "code",
      "execution_count": 14,
      "metadata": {
        "id": "Z4yg3urtZx6P"
      },
      "outputs": [],
      "source": [
        "from causaltensor.cauest import non_convex_panel_regression\n",
        "\n",
        "Sigma = np.random.rand(M0.shape[0], M0.shape[1])\n",
        "SigmaZ = []\n",
        "for k in range(num_treat):\n",
        "    SigmaZ.append(np.random.rand(M0.shape[0], M0.shape[1]))\n",
        "\n",
        "results = []\n",
        "for T in range(1000):\n",
        "    O = adding_noise(M0, Z, tau, Sigma, SigmaZ)\n",
        "    M, tau_hat = non_convex_panel_regression(O, Z, r=r) #solving a non-convex optimization to obtain M and tau\n",
        "    results.append(tau_hat)\n",
        "results = np.array(results)"
      ]
    },
    {
      "cell_type": "code",
      "execution_count": 15,
      "metadata": {
        "colab": {
          "base_uri": "https://localhost:8080/"
        },
        "id": "qSUAkiNZ7UOT",
        "outputId": "72ae0c04-7bae-4e27-e315-716b17f76b68"
      },
      "outputs": [
        {
          "name": "stdout",
          "output_type": "stream",
          "text": [
            "the estimated effect  [ 0.53821599 -1.25691476  0.18771391 -0.11386221  0.98543392]\n",
            "the true effect  [0.53814186498851, -1.2567108785919663, 0.1880640045830144, -0.11375866144894219, 0.9855216946172819]\n"
          ]
        }
      ],
      "source": [
        "print('the estimated effect ', np.mean(results, axis=0)) #the mean of the estimated treatment effects\n",
        "print('the true effect ', tau) #the true treatment effects"
      ]
    },
    {
      "attachments": {},
      "cell_type": "markdown",
      "metadata": {},
      "source": [
        "### Empirical distribution of the estimated treatment effects (each sample has a different realization of noises)\n",
        "The plot is obtained over 10000 samples (it cost ~5 minutes in a Macbook Pro)"
      ]
    },
    {
      "cell_type": "code",
      "execution_count": 38,
      "metadata": {
        "colab": {
          "base_uri": "https://localhost:8080/"
        },
        "id": "qJ4h9SZo7fEH",
        "outputId": "05d9c391-4773-4960-f489-61e7f09111cc"
      },
      "outputs": [
        {
          "name": "stdout",
          "output_type": "stream",
          "text": [
            "the empirical standard deviation 0.02274766006767708\n"
          ]
        },
        {
          "data": {
            "image/png": "[encoded data removed]",
            "text/plain": [
              "<Figure size 432x288 with 1 Axes>"
            ]
          },
          "metadata": {
            "needs_background": "light"
          },
          "output_type": "display_data"
        }
      ],
      "source": [
        "_ = plt.hist(results[:, 0], bins=50, density=True, alpha=0.5, label='Empirical Data')\n",
        "plt.xlabel(r'$\\hat{\\tau}_1$', fontsize=15)\n",
        "plt.ylabel('Density')\n",
        "print('the empirical standard deviation', np.std(results[:, 0]))"
      ]
    },
    {
      "attachments": {},
      "cell_type": "markdown",
      "metadata": {},
      "source": [
        "### Compute the confidence interval given one sample"
      ]
    },
    {
      "cell_type": "code",
      "execution_count": 39,
      "metadata": {
        "colab": {
          "base_uri": "https://localhost:8080/"
        },
        "id": "dc_urEDIRn-f",
        "outputId": "e5a04928-393a-4000-ec18-4fdd9339b4c8"
      },
      "outputs": [
        {
          "name": "stdout",
          "output_type": "stream",
          "text": [
            "the estimated standard deviation is  0.02229146804441463\n"
          ]
        }
      ],
      "source": [
        "from causaltensor.cauest import projection_T_orthogonal\n",
        "from causaltensor.cauest import panel_regression_CI\n",
        "\n",
        "\n",
        "O = adding_noise(M0, Z, tau, Sigma, SigmaZ)\n",
        "M, tau_hat = non_convex_panel_regression(O, Z, r=r)\n",
        "E_hat = O - M\n",
        "for k in range(num_treat):\n",
        "    E_hat -= tau_hat[k] * Z[k]\n",
        "CI = panel_regression_CI(M, Z, E_hat)\n",
        "print('the estimated standard deviation is ', np.sqrt(CI[0, 0]))"
      ]
    },
    {
      "attachments": {},
      "cell_type": "markdown",
      "metadata": {},
      "source": [
        "### Comparing the computed confidence interval and empirical distribution"
      ]
    },
    {
      "cell_type": "code",
      "execution_count": 40,
      "metadata": {
        "id": "0UosSsmu77j-"
      },
      "outputs": [
        {
          "data": {
            "image/png": "[encoded data removed]",
            "text/plain": [
              "<Figure size 432x288 with 1 Axes>"
            ]
          },
          "metadata": {
            "needs_background": "light"
          },
          "output_type": "display_data"
        }
      ],
      "source": [
        "from scipy.stats import norm\n",
        "data = results[:, 0]\n",
        "\n",
        "# Define the Gaussian function\n",
        "def gaussian(x, mean, std):\n",
        "    return norm.pdf(x, loc=mean, scale=std)\n",
        "\n",
        "# Generate x values for plotting\n",
        "x = np.linspace(data.min(), data.max(), 100)\n",
        "\n",
        "# Plot the empirical data\n",
        "plt.hist(data, bins=50, density=True, alpha=0.5, label='Empirical Data')\n",
        "\n",
        "# Plot the Gaussian fit\n",
        "plt.plot(x, gaussian(x, tau[0], np.sqrt(CI[0, 0])), 'r-', label='Our Theoretical SD')\n",
        "\n",
        "# Add labels and a legend\n",
        "plt.xlabel(r'$\\hat{\\tau}_1$', fontsize=15)\n",
        "plt.ylabel('Density')\n",
        "plt.legend()\n",
        "\n",
        "# Show the plot\n",
        "plt.show()"
      ]
    },
    {
      "cell_type": "code",
      "execution_count": null,
      "metadata": {},
      "outputs": [],
      "source": []
    }
  ],
  "metadata": {
    "accelerator": "GPU",
    "colab": {
      "gpuType": "T4",
      "machine_shape": "hm",
      "provenance": []
    },
    "gpuClass": "standard",
    "kernelspec": {
      "display_name": "base",
      "language": "python",
      "name": "python3"
    },
    "language_info": {
      "codemirror_mode": {
        "name": "ipython",
        "version": 3
      },
      "file_extension": ".py",
      "mimetype": "text/x-python",
      "name": "python",
      "nbconvert_exporter": "python",
      "pygments_lexer": "ipython3",
      "version": "3.7.4"
    },
    "orig_nbformat": 4,
    "vscode": {
      "interpreter": {
        "hash": "40d3a090f54c6569ab1632332b64b2c03c39dcf918b08424e98f38b5ae0af88f"
      }
    }
  },
  "nbformat": 4,
  "nbformat_minor": 0
}
