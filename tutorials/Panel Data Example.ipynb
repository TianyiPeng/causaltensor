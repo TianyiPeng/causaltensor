{
  "cells": [
    {
      "cell_type": "markdown",
      "metadata": {
        "id": "hX0p5BzC9-vK"
      },
      "source": [
        "# Panel Data Example\n",
        "\n",
        "In this example, we will use [California Smoke Data](https://www.tandfonline.com/doi/abs/10.1198/jasa.2009.ap08746) [1] to show the usage of [CausalTensor](https://github.com/TianyiPeng/causaltensor) package.\n",
        "\n",
        "[1] Abadie, Alberto, Alexis Diamond, and Jens Hainmueller. \"Synthetic control methods for comparative case studies: Estimating the effect of California’s tobacco control program.\" Journal of the American statistical Association 105, no. 490 (2010): 493-505."
      ]
    },
    {
      "cell_type": "code",
      "execution_count": 33,
      "metadata": {
        "id": "ecYezNjLW3VZ"
      },
      "outputs": [],
      "source": [
        "import numpy as np"
      ]
    },
    {
      "cell_type": "markdown",
      "metadata": {
        "id": "gAmMRnIV9uDq"
      },
      "source": [
        "Install and import `causaltensor` package"
      ]
    },
    {
      "cell_type": "code",
      "execution_count": 34,
      "metadata": {
        "colab": {
          "base_uri": "https://localhost:8080/"
        },
        "id": "yoqZkdZJ3tAR",
        "outputId": "009e0fef-2993-47e7-96b9-7929a08a48c0"
      },
      "outputs": [
        {
          "output_type": "stream",
          "name": "stdout",
          "text": [
            "Requirement already satisfied: causaltensor in /usr/local/lib/python3.11/dist-packages (0.1.9)\n",
            "Requirement already satisfied: numpy<2.0,>=1.18 in /usr/local/lib/python3.11/dist-packages (from causaltensor) (1.26.4)\n",
            "Requirement already satisfied: toolz<0.13.0,>=0.12.1 in /usr/local/lib/python3.11/dist-packages (from causaltensor) (0.12.1)\n"
          ]
        }
      ],
      "source": [
        "!pip install causaltensor #install the causaltensor package\n",
        "import causaltensor as ct"
      ]
    },
    {
      "cell_type": "markdown",
      "metadata": {
        "id": "Eea_IhaL94-s"
      },
      "source": [
        "## Load Data\n",
        "\n",
        "*California Smoke Data* consists of annual tobacco consumption (smoking consumption in packs per capita) of 39 states from 1970 to 2000.\n",
        "\n",
        "Among those states, California (the treated state) started a state-level tobacco control program in 1989; while other states largely serve as control states. The problem at hand is to evaluate the impact of this program to the tobacco consumption in California given the data.\n",
        "\n",
        "Let's first download the data."
      ]
    },
    {
      "cell_type": "code",
      "execution_count": 32,
      "metadata": {
        "colab": {
          "base_uri": "https://localhost:8080/"
        },
        "id": "76t1BOKU8Cqv",
        "outputId": "a0fe1e47-aeaf-473f-f30c-46d54e7a8dba"
      },
      "outputs": [
        {
          "output_type": "stream",
          "name": "stdout",
          "text": [
            "  % Total    % Received % Xferd  Average Speed   Time    Time     Time  Current\n",
            "                                 Dload  Upload   Total   Spent    Left  Speed\n",
            "  0     0    0     0    0     0      0      0 --:--:-- --:--:-- --:--:--     0\n",
            "100  6868  100  6868    0     0   5689      0  0:00:01  0:00:01 --:--:-- 17213\n",
            "Archive:  Synth.zip\n",
            "  inflating: synth_code.m            \n",
            "  inflating: readme_synth_matlab.txt  \n",
            "  inflating: MLAB_data.txt           \n",
            "  inflating: loss_function.m         \n"
          ]
        }
      ],
      "source": [
        "!curl https://github.com/TianyiPeng/causaltensor/raw/main/tutorials/Synth.zip -L -o Synth.zip\n",
        "!unzip -o Synth.zip"
      ]
    },
    {
      "cell_type": "markdown",
      "metadata": {
        "id": "WowuKbHEBqoX"
      },
      "source": [
        "Load and pre-process the outcome data"
      ]
    },
    {
      "cell_type": "code",
      "execution_count": 35,
      "metadata": {
        "colab": {
          "base_uri": "https://localhost:8080/"
        },
        "id": "QMDAQqZuW3Vc",
        "outputId": "e31add20-41bb-4c50-edff-c701c12b29da"
      },
      "outputs": [
        {
          "output_type": "stream",
          "name": "stdout",
          "text": [
            "(39, 31)\n"
          ]
        }
      ],
      "source": [
        "O_raw = np.loadtxt('MLAB_data.txt')\n",
        "O = O_raw[8:, :] ## remove features that are not relevant in this demo\n",
        "O = O.T\n",
        "print(O.shape)\n",
        "## now O consists of the annual tobacco consumption of 39 states from 1970 to 2000\n",
        "## California is the last row of O"
      ]
    },
    {
      "cell_type": "markdown",
      "metadata": {
        "id": "7kGd_eePCxcA"
      },
      "source": [
        "Let's take a look for the California data"
      ]
    },
    {
      "cell_type": "code",
      "execution_count": 36,
      "metadata": {
        "colab": {
          "base_uri": "https://localhost:8080/",
          "height": 448
        },
        "id": "5kWHT611W3Vc",
        "outputId": "610551aa-a588-4f2e-da61-07158b776a9f"
      },
      "outputs": [
        {
          "output_type": "execute_result",
          "data": {
            "text/plain": [
              "[<matplotlib.lines.Line2D at 0x7a19f9f8ce10>]"
            ]
          },
          "metadata": {},
          "execution_count": 36
        },
        {
          "output_type": "display_data",
          "data": {
            "text/plain": [
              "<Figure size 640x480 with 1 Axes>"
            ],
            "image/png": "[encoded data removed]"
          },
          "metadata": {}
        }
      ],
      "source": [
        "import matplotlib.pyplot as plt\n",
        "\n",
        "plt.plot(O[-1, :])"
      ]
    },
    {
      "cell_type": "markdown",
      "metadata": {
        "id": "qx0HCNW5DHBh"
      },
      "source": [
        "Prepare intervention matrix $Z$ that indicates whether the intervention is implemented or not"
      ]
    },
    {
      "cell_type": "code",
      "execution_count": 37,
      "metadata": {
        "id": "OKOaSdNDW3Vd"
      },
      "outputs": [],
      "source": [
        "Z = np.zeros_like(O) # Z has the same shape as O\n",
        "Z[-1, 19:] = 1 #Only California (the last row) used the intervention, which started in 1989"
      ]
    },
    {
      "cell_type": "markdown",
      "metadata": {
        "id": "nrbswjpjEPEa"
      },
      "source": [
        "## Estimators\n",
        "\n",
        "Now after we have the outcome data ($O \\in R^{n\\times T}$) and the intervention data ($Z \\in R^{n\\times T}$), let's show a few methods that can be used directly to assess the impact of the intervention."
      ]
    },
    {
      "cell_type": "markdown",
      "metadata": {
        "id": "NHJX5Sd6W3Ve"
      },
      "source": [
        "## DID estimation\n",
        "\n",
        "The first method is difference-in-difference (DID). We use a two-way fixed effects regression to estimate the average treatment effect on the treated entries (ATT). In particular, we solve the following regression by linear regression\n",
        "$$\n",
        "\\min \\sum_{ij} (O_{ij} - a_i - b_j - \\tau Z_{ij})^2\n",
        "$$\n",
        "where $a_{i}, b_{j}$ are unknown fixed effects and $\\tau$ is the ATT.\n",
        "\n",
        "To use DID, simply call\n",
        "```\n",
        "M, tau = DID(O, Z)\n",
        "````\n",
        "with two return parameters `M` and `tau`. Here $M_{ij}=a_{i}+b_{j}$ is the estimated ideal outcomes; and `tau` is the estimated ATT."
      ]
    },
    {
      "cell_type": "code",
      "execution_count": 38,
      "metadata": {
        "colab": {
          "base_uri": "https://localhost:8080/"
        },
        "id": "cDDMODb7W3Vf",
        "outputId": "5adecf08-4180-41fe-ac36-e6f74b6fcc7d"
      },
      "outputs": [
        {
          "output_type": "stream",
          "name": "stdout",
          "text": [
            "The estimation of DID is -27.34911108361495\n"
          ]
        }
      ],
      "source": [
        "from causaltensor.cauest import DID\n",
        "\n",
        "M, tau = DID(O, Z)\n",
        "print('The estimation of DID is', tau)"
      ]
    },
    {
      "cell_type": "markdown",
      "metadata": {
        "id": "wIyuxrU1W3Vi"
      },
      "source": [
        "## Debiased Convex Panel Regression\n",
        "\n",
        "The second method is De-biaeed Convex Panel Regression (DC-PR) proposed by [2].\n",
        "Note that an issue of the DID model is that, $a_i+b_j$ are often too simple to describe the complex reality of the outcome. As a fix, a low-rank factor model to generalize $a_i+b_j$ has been advocated.\n",
        "\n",
        "The idea in [2] is to firstly solve the following low-rank regression problem by replacing $a_i+b_j$ in DID by a low-rank matrix $M$\n",
        "$$\n",
        "\\hat{M}, \\hat{\\tau} = \\arg\\min \\sum_{ij} (O_{ij}-M_{ij}-\\tau Z_{ij})^2 + \\lambda \\|M\\|_{*}\n",
        "$$\n",
        "where $\\|M\\|_{*}$ is the nuclear norm to penalize the low-rankness of the matrix and $\\lambda$ is a tunning parameter. The second step of [2] is to mitigate the bias induced by the regularization parameter (it also reflects the interaction between $\\hat{M}$ and $Z$):\n",
        "$$\n",
        "\\tau^{d} = \\hat{\\tau} - \\lambda \\frac{<Z, \\hat{U}\\hat{V}^{\\top}>}{\\|P_{\\hat{T}^{\\perp}}(Z)\\|_{F}^2}.\n",
        "$$\n",
        "See [2] for more details.\n",
        "\n",
        "To use DC-PR, call\n",
        "```\n",
        "M, tau, std = DC_PR_auto_rank(O, Z)\n",
        "```\n",
        "where `M`, `tau` are the final estimators for the low-rank matrix and the treatment effects respectively. In addition `std` is the stanard deviation estimation for `tau`, using the formula in [2] for the scenarios when noises are (heterogenoues) independent sub-Gaussian. This function helps to find the proper rank for $M$ (but not very stable, and may be updated later). You can also use\n",
        "```\n",
        "M, tau, std = DC_PR_with_suggested_rank(O, Z, suggest_r = r)\n",
        "```\n",
        "if you have an estimation of the rank of $M$ by yourself.\n",
        "\n",
        "[2] Farias, Vivek, Andrew Li, and Tianyi Peng. \"Learning treatment effects in panels with general intervention patterns.\" Advances in Neural Information Processing Systems 34 (2021): 14001-14013."
      ]
    },
    {
      "cell_type": "code",
      "execution_count": 39,
      "metadata": {
        "colab": {
          "base_uri": "https://localhost:8080/"
        },
        "id": "bRaYUEO9W3Vi",
        "outputId": "758062db-c9c5-469d-80a2-78e5a2b1b43d"
      },
      "outputs": [
        {
          "output_type": "stream",
          "name": "stdout",
          "text": [
            "The estimation of DC_PR is -16.010577370658773 3.013020638540684\n"
          ]
        }
      ],
      "source": [
        "from causaltensor.cauest import DC_PR_with_suggested_rank\n",
        "from causaltensor.cauest import DC_PR_auto_rank\n",
        "\n",
        "#M, tau, std = DebiasConvex.DC_PR_with_suggested_rank(O, Z, suggest_r = 2)\n",
        "M, tau, std = DC_PR_auto_rank(O, Z)\n",
        "print('The estimation of DC_PR is', tau, std)"
      ]
    },
    {
      "cell_type": "markdown",
      "metadata": {
        "id": "3T1wQP1A3QG0"
      },
      "source": [
        "We also implemented the panel regression with a hard rank constraint:\n",
        "$$\n",
        "\\hat{M}, \\hat{\\tau} = \\arg\\min_{rank(M)\\leq r} \\sum_{ij} (O_{ij}-M_{ij}-\\tau Z_{ij})^2\n",
        "$$\n",
        "This is a non-convex optimization problem and we used the alternate minimization between $M$ and $\\tau$ for the optimization. The theoretical guarantee for this non-convex method is weaker than the convex method above (the convergence to the global optimum is not always guaranteed), but the practical performance is comparable (sometimes even better).  "
      ]
    },
    {
      "cell_type": "code",
      "execution_count": 40,
      "metadata": {
        "colab": {
          "base_uri": "https://localhost:8080/"
        },
        "id": "d-5lTg384O8h",
        "outputId": "352264fb-0bf4-44fa-ace9-003dcd1301f9"
      },
      "outputs": [
        {
          "output_type": "stream",
          "name": "stdout",
          "text": [
            "-15.880704119035332 3.011813924289432\n"
          ]
        }
      ],
      "source": [
        "M, tau, std = DC_PR_with_suggested_rank(O, Z, suggest_r = 2, method='non-convex')\n",
        "print(tau, std)"
      ]
    },
    {
      "cell_type": "markdown",
      "metadata": {
        "id": "pyJDPbgr4w9B"
      },
      "source": [
        "We also provide an option to select `convex` or `non-convex` panel regression in a data-driven fasion. This is recommended in practice."
      ]
    },
    {
      "cell_type": "code",
      "execution_count": 41,
      "metadata": {
        "colab": {
          "base_uri": "https://localhost:8080/"
        },
        "id": "eDEig1Oj4wbu",
        "outputId": "2287a7f5-9c1d-4d7f-cd49-74f9c6b7a7bf"
      },
      "outputs": [
        {
          "output_type": "stream",
          "name": "stdout",
          "text": [
            "-15.880704119035332 3.011813924289432\n"
          ]
        }
      ],
      "source": [
        "M, tau, std = DC_PR_with_suggested_rank(O, Z, suggest_r = 2, method='auto')\n",
        "print(tau, std)"
      ]
    },
    {
      "cell_type": "markdown",
      "metadata": {
        "id": "5TE1lOIsW3Vg"
      },
      "source": [
        "## SDID estimation\n",
        "\n",
        "The second method is called synthetic difference-in-difference (SDID) proposed by [3]. Readers can read [3] for more details. To use SDID, simply call\n",
        "```\n",
        "tau = SDID(O, Z)\n",
        "```\n",
        "where `tau` is the estimation of SDID.\n",
        "\n",
        "[3] Arkhangelsky, Dmitry, Susan Athey, David A. Hirshberg, Guido W. Imbens, and Stefan Wager. \"Synthetic difference-in-differences.\" American Economic Review 111, no. 12 (2021): 4088-4118."
      ]
    },
    {
      "cell_type": "code",
      "execution_count": 42,
      "metadata": {
        "colab": {
          "base_uri": "https://localhost:8080/"
        },
        "id": "NrEirNOEW3Vg",
        "outputId": "85a20188-df0d-4572-9852-5853bd5dd58e"
      },
      "outputs": [
        {
          "output_type": "stream",
          "name": "stdout",
          "text": [
            "The estimation of SDID is -15.602326126984645\n"
          ]
        }
      ],
      "source": [
        "from causaltensor.cauest import SDID\n",
        "\n",
        "## to use SDID, cvxopt package is needed\n",
        "\n",
        "tau = SDID(O, Z)\n",
        "print('The estimation of SDID is', tau) ## The result matched the result in [2]"
      ]
    },
    {
      "cell_type": "markdown",
      "metadata": {
        "id": "e748YgFHW3Vh"
      },
      "source": [
        "## Matrix Completion\n",
        "\n",
        "The third method is based on matrix completion method proposed by [4]. The idea is to solve the following matrix completion problem, only using the outcome data without intervention (i.e., $Z_{ij}=0$)\n",
        "$$\n",
        "\\hat{M}, \\hat{a}, \\hat{b} = \\arg\\min \\sum_{ij, Z_{ij}=0} (O_{ij}-M_{ij} - a_i - b_j)^2 + \\lambda \\|M\\|_{*}\n",
        "$$\n",
        "where $\\|M\\|_{*}$ is the nuclear norm that penalizes the low-rankness of the matrix (here $a_{i}$ and $b_{j}$ are used to improve the empirical performance, as suggested by [4]).\n",
        "\n",
        "After $\\hat{M}, \\hat{a}, \\hat{b}$ are obtained, the ATT $\\hat{\\tau}$ can be estimated simply by\n",
        "$$\n",
        "\\hat{\\tau} = \\frac{\\sum_{ij, Z_{ij}=1} (O_{ij} - \\hat{M}_{ij} - \\hat{a}_i - \\hat{b}_{j})}{\\sum_{ij, Z_{ij}=1} 1}.\n",
        "$$\n",
        "\n",
        "To use this method (referred to as matrix completion with nuclear norm minimization, or MC-NNM), when you have an estimation of the rank of the matrix $M$ (e.g., by checking the spectrum), call\n",
        "```\n",
        "M, a, b, tau = MC_NNM_with_suggested_rank(O, 1-Z, suggest_r = r)\n",
        "```\n",
        "where `M`, `a`, `b` are the optimizers and `tau` is the estimated ATT.\n",
        "\n",
        "We also provide a function to help you find the right parameter $\\lambda$ or rank by cross-validation:\n",
        "```\n",
        "M, a, b, tau = MC_NNM_with_cross_validation(O, 1-Z)\n",
        "```\n",
        "\n",
        "\n",
        "[4] Athey, Susan, Mohsen Bayati, Nikolay Doudchenko, Guido Imbens, and Khashayar Khosravi. \"Matrix completion methods for causal panel data models.\" Journal of the American Statistical Association 116, no. 536 (2021): 1716-1730."
      ]
    },
    {
      "cell_type": "code",
      "execution_count": 43,
      "metadata": {
        "colab": {
          "base_uri": "https://localhost:8080/"
        },
        "id": "ziuVG2CVW3Vh",
        "outputId": "77485282-d36e-4fe8-cba8-f06e6b868aa6"
      },
      "outputs": [
        {
          "output_type": "execute_result",
          "data": {
            "text/plain": [
              "-22.345401569119485"
            ]
          },
          "metadata": {},
          "execution_count": 43
        }
      ],
      "source": [
        "from causaltensor.cauest import MC_NNM_with_suggested_rank\n",
        "\n",
        "M, a, b, tau = MC_NNM_with_suggested_rank(O, 1-Z, suggest_r = 1)\n",
        "tau"
      ]
    },
    {
      "cell_type": "code",
      "execution_count": 44,
      "metadata": {
        "colab": {
          "base_uri": "https://localhost:8080/"
        },
        "id": "kQ6UUC-EW3Vh",
        "outputId": "0afd0f3e-8142-4be5-82c1-7dc61390e632"
      },
      "outputs": [
        {
          "output_type": "stream",
          "name": "stdout",
          "text": [
            "The estimation of MC_NNM is -20.267535327741047\n"
          ]
        }
      ],
      "source": [
        "from causaltensor.cauest import MC_NNM_with_cross_validation\n",
        "\n",
        "M, a, b, tau = MC_NNM_with_cross_validation(O, 1-Z)\n",
        "print('The estimation of MC_NNM is', tau)"
      ]
    },
    {
      "cell_type": "code",
      "execution_count": 44,
      "metadata": {
        "id": "mKB3_m0WArJw"
      },
      "outputs": [],
      "source": []
    }
  ],
  "metadata": {
    "colab": {
      "provenance": []
    },
    "kernelspec": {
      "display_name": "base",
      "language": "python",
      "name": "python3"
    },
    "language_info": {
      "codemirror_mode": {
        "name": "ipython",
        "version": 3
      },
      "file_extension": ".py",
      "mimetype": "text/x-python",
      "name": "python",
      "nbconvert_exporter": "python",
      "pygments_lexer": "ipython3",
      "version": "3.10.9"
    },
    "orig_nbformat": 4,
    "vscode": {
      "interpreter": {
        "hash": "40d3a090f54c6569ab1632332b64b2c03c39dcf918b08424e98f38b5ae0af88f"
      }
    }
  },
  "nbformat": 4,
  "nbformat_minor": 0
}